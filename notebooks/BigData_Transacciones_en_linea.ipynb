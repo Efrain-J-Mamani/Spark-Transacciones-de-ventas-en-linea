{
 "cells": [
  {
   "cell_type": "markdown",
   "metadata": {},
   "source": [
    "# Spark - Transacciones de Ventas en Línea"
   ]
  },
  {
   "cell_type": "markdown",
   "metadata": {},
   "source": [
    "\n",
    "En este proyecto se utilizará el conjunto de datos de compras en línea, para explorar la segmentación de los clientes con el negocio, dado que el conjunto de datos contiene todas las transacciones ocurridas entre el 2009 y el 2011 para un comercio minorista en línea registrado en el Reino Unido.\n"
   ]
  },
  {
   "cell_type": "markdown",
   "metadata": {},
   "source": [
    "En primera instancia se realiza un **Análisis Exploratorio de Datos**, preparándolos para el **algoritmo a priori**, a través de la interesante tarea del método de aprendizaje no supervisado, es decir aplicando el enfoque de minería de **reglas de asociación** para encontrar reglas y patrones interesantes en esta base de datos de transacciones, con el fin de realizar _decisiones interesantes y útiles en lo que respecta al interés del usuario_.\n",
    "\n",
    "Para la fuente de datos, se recurrió al repositorio Kaggle: https://www.kaggle.com/puneetbhaya/online-retail\n"
   ]
  },
  {
   "cell_type": "markdown",
   "metadata": {},
   "source": [
    "### Problema"
   ]
  },
  {
   "cell_type": "markdown",
   "metadata": {},
   "source": [
    "\n",
    "Se tiene la información de compras en línea de clientes con sus respectivas interacciones con el negocio sin explotar dicha información. En la mayoría de los casos, esta interacción esta en términos de su comportamiento de compra, es decir: la segmentación del cliente a descubrir.\n"
   ]
  },
  {
   "cell_type": "markdown",
   "metadata": {},
   "source": [
    "### Objetivo"
   ]
  },
  {
   "cell_type": "markdown",
   "metadata": {},
   "source": [
    "Explorar las características de los clientes con respecto a sus compras en línea para observar el comportamiento y patrones de compra.\n",
    "\n",
    "* Realizar a priori un **EDA** para la descripción del conjunto de datos utilizando _**PySpark**_ de la herramienta de _**Spark**_.\n",
    "\n",
    "\n",
    "* Y finalmente, aplicar **Reglas de Asociación** con la ayuda de la librería _**MLlib**_ de _**Spark**_, para encontrar reglas y patrones de comportamiento.\n"
   ]
  },
  {
   "cell_type": "markdown",
   "metadata": {},
   "source": [
    "### Descripción del conjunto de Datos"
   ]
  },
  {
   "cell_type": "markdown",
   "metadata": {},
   "source": [
    "_Dimensiones:_ 1000000 x 8\n",
    "&nbsp;\n",
    "\n",
    "_Formato:_ csv\n",
    "&nbsp;\n",
    "\n",
    "_Descripción de las columnas:_\n",
    "* **InvoiceNo:** código de la compra\n",
    "* **StockCode:** código del producto\n",
    "* **Description:** nombre del producto\n",
    "* **Quantity:** cantidad del producto\n",
    "* **InvoiceDate:** fecha de la compra\n",
    "* **UnitPrice:** precio unitario del producto\n",
    "* **CustomerID:** identificación del cliente\n",
    "* **Country:** país del cliente"
   ]
  },
  {
   "cell_type": "markdown",
   "metadata": {},
   "source": [
    "## 1. Carga del conjunto de datos"
   ]
  },
  {
   "cell_type": "code",
   "execution_count": 1,
   "metadata": {},
   "outputs": [],
   "source": [
    "# iniciando sesion Spark\n",
    "\n",
    "from pyspark.sql import SparkSession\n",
    "spark = SparkSession.builder.appName(\"App-Transacciones\").getOrCreate()\n",
    "\n",
    "sc = spark.sparkContext\n"
   ]
  },
  {
   "cell_type": "code",
   "execution_count": 2,
   "metadata": {},
   "outputs": [
    {
     "name": "stdout",
     "output_type": "stream",
     "text": [
      "<class 'pyspark.sql.dataframe.DataFrame'>\n",
      "root\n",
      " |-- Invoice: string (nullable = true)\n",
      " |-- StockCode: string (nullable = true)\n",
      " |-- Description: string (nullable = true)\n",
      " |-- Quantity: integer (nullable = true)\n",
      " |-- InvoiceDate: string (nullable = true)\n",
      " |-- Price: double (nullable = true)\n",
      " |-- Customer ID: integer (nullable = true)\n",
      " |-- Country: string (nullable = true)\n",
      "\n",
      "+-------+---------+--------------------+--------+---------------+-----+-----------+--------------+\n",
      "|Invoice|StockCode|         Description|Quantity|    InvoiceDate|Price|Customer ID|       Country|\n",
      "+-------+---------+--------------------+--------+---------------+-----+-----------+--------------+\n",
      "| 489434|    85048|15CM CHRISTMAS GL...|      12|01/12/2009 7:45| 6.95|      13085|United Kingdom|\n",
      "| 489434|   79323P|  PINK CHERRY LIGHTS|      12|01/12/2009 7:45| 6.75|      13085|United Kingdom|\n",
      "| 489434|   79323W| WHITE CHERRY LIGHTS|      12|01/12/2009 7:45| 6.75|      13085|United Kingdom|\n",
      "| 489434|    22041|\"RECORD FRAME 7\"\"...|      48|01/12/2009 7:45|  2.1|      13085|United Kingdom|\n",
      "| 489434|    21232|STRAWBERRY CERAMI...|      24|01/12/2009 7:45| 1.25|      13085|United Kingdom|\n",
      "| 489434|    22064|PINK DOUGHNUT TRI...|      24|01/12/2009 7:45| 1.65|      13085|United Kingdom|\n",
      "| 489434|    21871| SAVE THE PLANET MUG|      24|01/12/2009 7:45| 1.25|      13085|United Kingdom|\n",
      "| 489434|    21523|FANCY FONT HOME S...|      10|01/12/2009 7:45| 5.95|      13085|United Kingdom|\n",
      "| 489435|    22350|           CAT BOWL |      12|01/12/2009 7:46| 2.55|      13085|United Kingdom|\n",
      "| 489435|    22349|DOG BOWL . CHASIN...|      12|01/12/2009 7:46| 3.75|      13085|United Kingdom|\n",
      "| 489435|    22195|HEART MEASURING S...|      24|01/12/2009 7:46| 1.65|      13085|United Kingdom|\n",
      "| 489435|    22353|LUNCHBOX WITH CUT...|      12|01/12/2009 7:46| 2.55|      13085|United Kingdom|\n",
      "| 489436|   48173C|DOOR MAT BLACK FL...|      10|01/12/2009 9:06| 5.95|      13078|United Kingdom|\n",
      "| 489436|    21755|LOVE BUILDING BLO...|      18|01/12/2009 9:06| 5.45|      13078|United Kingdom|\n",
      "| 489436|    21754|HOME BUILDING BLO...|       3|01/12/2009 9:06| 5.95|      13078|United Kingdom|\n",
      "| 489436|    84879|ASSORTED COLOUR B...|      16|01/12/2009 9:06| 1.69|      13078|United Kingdom|\n",
      "| 489436|    22119| PEACE WOODEN BLO...|       3|01/12/2009 9:06| 6.95|      13078|United Kingdom|\n",
      "| 489436|    22142|CHRISTMAS CRAFT W...|      12|01/12/2009 9:06| 1.45|      13078|United Kingdom|\n",
      "| 489436|    22296|HEART IVORY TRELL...|      12|01/12/2009 9:06| 1.65|      13078|United Kingdom|\n",
      "| 489436|    22295|HEART FILIGREE DO...|      12|01/12/2009 9:06| 1.65|      13078|United Kingdom|\n",
      "+-------+---------+--------------------+--------+---------------+-----+-----------+--------------+\n",
      "only showing top 20 rows\n",
      "\n"
     ]
    },
    {
     "data": {
      "text/plain": [
       "463719"
      ]
     },
     "execution_count": 2,
     "metadata": {},
     "output_type": "execute_result"
    }
   ],
   "source": [
    "# cargando el primer dataset\n",
    "\n",
    "ventas_1 = spark.read.csv( \"./../data/Ventas.csv\", header=True, mode=\"DROPMALFORMED\", inferSchema=True )\n",
    "\n",
    "print( type( ventas_1 ) )\n",
    "ventas_1.printSchema()\n",
    "ventas_1.show()\n",
    "\n",
    "# nro. de filas o registros del Dataframe 1\n",
    "\n",
    "ventas_1.count()\n"
   ]
  },
  {
   "cell_type": "code",
   "execution_count": 3,
   "metadata": {},
   "outputs": [
    {
     "name": "stdout",
     "output_type": "stream",
     "text": [
      "root\n",
      " |-- InvoiceNo: string (nullable = true)\n",
      " |-- StockCode: string (nullable = true)\n",
      " |-- Description: string (nullable = true)\n",
      " |-- Quantity: integer (nullable = true)\n",
      " |-- InvoiceDate: string (nullable = true)\n",
      " |-- UnitPrice: double (nullable = true)\n",
      " |-- CustomerID: integer (nullable = true)\n",
      " |-- Country: string (nullable = true)\n",
      "\n",
      "+---------+---------+--------------------+--------+---------------+---------+----------+--------------+\n",
      "|InvoiceNo|StockCode|         Description|Quantity|    InvoiceDate|UnitPrice|CustomerID|       Country|\n",
      "+---------+---------+--------------------+--------+---------------+---------+----------+--------------+\n",
      "|   536365|   85123A|WHITE HANGING HEA...|       6|01/12/2010 8:26|     2.55|     17850|United Kingdom|\n",
      "|   536365|    71053| WHITE METAL LANTERN|       6|01/12/2010 8:26|     3.39|     17850|United Kingdom|\n",
      "|   536365|   84406B|CREAM CUPID HEART...|       8|01/12/2010 8:26|     2.75|     17850|United Kingdom|\n",
      "|   536365|   84029G|KNITTED UNION FLA...|       6|01/12/2010 8:26|     3.39|     17850|United Kingdom|\n",
      "|   536365|   84029E|RED WOOLLY HOTTIE...|       6|01/12/2010 8:26|     3.39|     17850|United Kingdom|\n",
      "|   536365|    22752|SET 7 BABUSHKA NE...|       2|01/12/2010 8:26|     7.65|     17850|United Kingdom|\n",
      "|   536365|    21730|GLASS STAR FROSTE...|       6|01/12/2010 8:26|     4.25|     17850|United Kingdom|\n",
      "|   536366|    22633|HAND WARMER UNION...|       6|01/12/2010 8:28|     1.85|     17850|United Kingdom|\n",
      "|   536366|    22632|HAND WARMER RED P...|       6|01/12/2010 8:28|     1.85|     17850|United Kingdom|\n",
      "|   536367|    84879|ASSORTED COLOUR B...|      32|01/12/2010 8:34|     1.69|     13047|United Kingdom|\n",
      "|   536367|    22745|POPPY'S PLAYHOUSE...|       6|01/12/2010 8:34|      2.1|     13047|United Kingdom|\n",
      "|   536367|    22748|POPPY'S PLAYHOUSE...|       6|01/12/2010 8:34|      2.1|     13047|United Kingdom|\n",
      "|   536367|    22749|FELTCRAFT PRINCES...|       8|01/12/2010 8:34|     3.75|     13047|United Kingdom|\n",
      "|   536367|    22310|IVORY KNITTED MUG...|       6|01/12/2010 8:34|     1.65|     13047|United Kingdom|\n",
      "|   536367|    84969|BOX OF 6 ASSORTED...|       6|01/12/2010 8:34|     4.25|     13047|United Kingdom|\n",
      "|   536367|    22623|BOX OF VINTAGE JI...|       3|01/12/2010 8:34|     4.95|     13047|United Kingdom|\n",
      "|   536367|    22622|BOX OF VINTAGE AL...|       2|01/12/2010 8:34|     9.95|     13047|United Kingdom|\n",
      "|   536367|    21754|HOME BUILDING BLO...|       3|01/12/2010 8:34|     5.95|     13047|United Kingdom|\n",
      "|   536367|    21755|LOVE BUILDING BLO...|       3|01/12/2010 8:34|     5.95|     13047|United Kingdom|\n",
      "|   536367|    21777|RECIPE BOX WITH M...|       4|01/12/2010 8:34|     7.95|     13047|United Kingdom|\n",
      "+---------+---------+--------------------+--------+---------------+---------+----------+--------------+\n",
      "only showing top 20 rows\n",
      "\n"
     ]
    },
    {
     "data": {
      "text/plain": [
       "541909"
      ]
     },
     "execution_count": 3,
     "metadata": {},
     "output_type": "execute_result"
    }
   ],
   "source": [
    "# cargando el segundo dataset\n",
    "\n",
    "ventas_2 = spark.read.csv( \"./../data/Ventas_2.csv\", header=True, mode=\"DROPMALFORMED\", inferSchema=True )\n",
    "ventas_2.printSchema()\n",
    "ventas_2.show()\n",
    "\n",
    "# nro. de filas o registros del Dataframe 2\n",
    "\n",
    "ventas_2.count()\n"
   ]
  },
  {
   "cell_type": "code",
   "execution_count": 4,
   "metadata": {},
   "outputs": [
    {
     "data": {
      "text/html": [
       "<div>\n",
       "<style scoped>\n",
       "    .dataframe tbody tr th:only-of-type {\n",
       "        vertical-align: middle;\n",
       "    }\n",
       "\n",
       "    .dataframe tbody tr th {\n",
       "        vertical-align: top;\n",
       "    }\n",
       "\n",
       "    .dataframe thead th {\n",
       "        text-align: right;\n",
       "    }\n",
       "</style>\n",
       "<table border=\"1\" class=\"dataframe\">\n",
       "  <thead>\n",
       "    <tr style=\"text-align: right;\">\n",
       "      <th></th>\n",
       "      <th>InvoiceNo</th>\n",
       "      <th>StockCode</th>\n",
       "      <th>Description</th>\n",
       "      <th>Quantity</th>\n",
       "      <th>InvoiceDate</th>\n",
       "      <th>UnitPrice</th>\n",
       "      <th>CustomerID</th>\n",
       "      <th>Country</th>\n",
       "    </tr>\n",
       "  </thead>\n",
       "  <tbody>\n",
       "    <tr>\n",
       "      <th>0</th>\n",
       "      <td>536365</td>\n",
       "      <td>85123A</td>\n",
       "      <td>WHITE HANGING HEART T-LIGHT HOLDER</td>\n",
       "      <td>6</td>\n",
       "      <td>01/12/2010 8:26</td>\n",
       "      <td>2.55</td>\n",
       "      <td>17850.0</td>\n",
       "      <td>United Kingdom</td>\n",
       "    </tr>\n",
       "    <tr>\n",
       "      <th>1</th>\n",
       "      <td>536365</td>\n",
       "      <td>71053</td>\n",
       "      <td>WHITE METAL LANTERN</td>\n",
       "      <td>6</td>\n",
       "      <td>01/12/2010 8:26</td>\n",
       "      <td>3.39</td>\n",
       "      <td>17850.0</td>\n",
       "      <td>United Kingdom</td>\n",
       "    </tr>\n",
       "    <tr>\n",
       "      <th>2</th>\n",
       "      <td>536365</td>\n",
       "      <td>84406B</td>\n",
       "      <td>CREAM CUPID HEARTS COAT HANGER</td>\n",
       "      <td>8</td>\n",
       "      <td>01/12/2010 8:26</td>\n",
       "      <td>2.75</td>\n",
       "      <td>17850.0</td>\n",
       "      <td>United Kingdom</td>\n",
       "    </tr>\n",
       "    <tr>\n",
       "      <th>3</th>\n",
       "      <td>536365</td>\n",
       "      <td>84029G</td>\n",
       "      <td>KNITTED UNION FLAG HOT WATER BOTTLE</td>\n",
       "      <td>6</td>\n",
       "      <td>01/12/2010 8:26</td>\n",
       "      <td>3.39</td>\n",
       "      <td>17850.0</td>\n",
       "      <td>United Kingdom</td>\n",
       "    </tr>\n",
       "    <tr>\n",
       "      <th>4</th>\n",
       "      <td>536365</td>\n",
       "      <td>84029E</td>\n",
       "      <td>RED WOOLLY HOTTIE WHITE HEART.</td>\n",
       "      <td>6</td>\n",
       "      <td>01/12/2010 8:26</td>\n",
       "      <td>3.39</td>\n",
       "      <td>17850.0</td>\n",
       "      <td>United Kingdom</td>\n",
       "    </tr>\n",
       "    <tr>\n",
       "      <th>...</th>\n",
       "      <td>...</td>\n",
       "      <td>...</td>\n",
       "      <td>...</td>\n",
       "      <td>...</td>\n",
       "      <td>...</td>\n",
       "      <td>...</td>\n",
       "      <td>...</td>\n",
       "      <td>...</td>\n",
       "    </tr>\n",
       "    <tr>\n",
       "      <th>541904</th>\n",
       "      <td>581587</td>\n",
       "      <td>22613</td>\n",
       "      <td>PACK OF 20 SPACEBOY NAPKINS</td>\n",
       "      <td>12</td>\n",
       "      <td>09/12/2011 12:50</td>\n",
       "      <td>0.85</td>\n",
       "      <td>12680.0</td>\n",
       "      <td>France</td>\n",
       "    </tr>\n",
       "    <tr>\n",
       "      <th>541905</th>\n",
       "      <td>581587</td>\n",
       "      <td>22899</td>\n",
       "      <td>CHILDREN'S APRON DOLLY GIRL</td>\n",
       "      <td>6</td>\n",
       "      <td>09/12/2011 12:50</td>\n",
       "      <td>2.10</td>\n",
       "      <td>12680.0</td>\n",
       "      <td>France</td>\n",
       "    </tr>\n",
       "    <tr>\n",
       "      <th>541906</th>\n",
       "      <td>581587</td>\n",
       "      <td>23254</td>\n",
       "      <td>CHILDRENS CUTLERY DOLLY GIRL</td>\n",
       "      <td>4</td>\n",
       "      <td>09/12/2011 12:50</td>\n",
       "      <td>4.15</td>\n",
       "      <td>12680.0</td>\n",
       "      <td>France</td>\n",
       "    </tr>\n",
       "    <tr>\n",
       "      <th>541907</th>\n",
       "      <td>581587</td>\n",
       "      <td>23255</td>\n",
       "      <td>CHILDRENS CUTLERY CIRCUS PARADE</td>\n",
       "      <td>4</td>\n",
       "      <td>09/12/2011 12:50</td>\n",
       "      <td>4.15</td>\n",
       "      <td>12680.0</td>\n",
       "      <td>France</td>\n",
       "    </tr>\n",
       "    <tr>\n",
       "      <th>541908</th>\n",
       "      <td>581587</td>\n",
       "      <td>22138</td>\n",
       "      <td>BAKING SET 9 PIECE RETROSPOT</td>\n",
       "      <td>3</td>\n",
       "      <td>09/12/2011 12:50</td>\n",
       "      <td>4.95</td>\n",
       "      <td>12680.0</td>\n",
       "      <td>France</td>\n",
       "    </tr>\n",
       "  </tbody>\n",
       "</table>\n",
       "<p>541909 rows × 8 columns</p>\n",
       "</div>"
      ],
      "text/plain": [
       "       InvoiceNo StockCode                          Description  Quantity  \\\n",
       "0         536365    85123A   WHITE HANGING HEART T-LIGHT HOLDER         6   \n",
       "1         536365     71053                  WHITE METAL LANTERN         6   \n",
       "2         536365    84406B       CREAM CUPID HEARTS COAT HANGER         8   \n",
       "3         536365    84029G  KNITTED UNION FLAG HOT WATER BOTTLE         6   \n",
       "4         536365    84029E       RED WOOLLY HOTTIE WHITE HEART.         6   \n",
       "...          ...       ...                                  ...       ...   \n",
       "541904    581587     22613          PACK OF 20 SPACEBOY NAPKINS        12   \n",
       "541905    581587     22899         CHILDREN'S APRON DOLLY GIRL          6   \n",
       "541906    581587     23254        CHILDRENS CUTLERY DOLLY GIRL          4   \n",
       "541907    581587     23255      CHILDRENS CUTLERY CIRCUS PARADE         4   \n",
       "541908    581587     22138        BAKING SET 9 PIECE RETROSPOT          3   \n",
       "\n",
       "             InvoiceDate  UnitPrice  CustomerID         Country  \n",
       "0        01/12/2010 8:26       2.55     17850.0  United Kingdom  \n",
       "1        01/12/2010 8:26       3.39     17850.0  United Kingdom  \n",
       "2        01/12/2010 8:26       2.75     17850.0  United Kingdom  \n",
       "3        01/12/2010 8:26       3.39     17850.0  United Kingdom  \n",
       "4        01/12/2010 8:26       3.39     17850.0  United Kingdom  \n",
       "...                  ...        ...         ...             ...  \n",
       "541904  09/12/2011 12:50       0.85     12680.0          France  \n",
       "541905  09/12/2011 12:50       2.10     12680.0          France  \n",
       "541906  09/12/2011 12:50       4.15     12680.0          France  \n",
       "541907  09/12/2011 12:50       4.15     12680.0          France  \n",
       "541908  09/12/2011 12:50       4.95     12680.0          France  \n",
       "\n",
       "[541909 rows x 8 columns]"
      ]
     },
     "execution_count": 4,
     "metadata": {},
     "output_type": "execute_result"
    }
   ],
   "source": [
    "# llevando a un formato Pandas para una mejor visualización\n",
    "\n",
    "ventasPD = ventas_2.toPandas()\n",
    "ventasPD #ventasPD.head(20)\n"
   ]
  },
  {
   "cell_type": "markdown",
   "metadata": {},
   "source": [
    "&nbsp;\n",
    "\n",
    "### Unión de dos Dataframe's"
   ]
  },
  {
   "cell_type": "code",
   "execution_count": 5,
   "metadata": {
    "scrolled": false
   },
   "outputs": [
    {
     "name": "stdout",
     "output_type": "stream",
     "text": [
      "root\n",
      " |-- Invoice: string (nullable = true)\n",
      " |-- StockCode: string (nullable = true)\n",
      " |-- Description: string (nullable = true)\n",
      " |-- Quantity: integer (nullable = true)\n",
      " |-- InvoiceDate: string (nullable = true)\n",
      " |-- Price: double (nullable = true)\n",
      " |-- Customer ID: integer (nullable = true)\n",
      " |-- Country: string (nullable = true)\n",
      "\n",
      "+-------+---------+--------------------+--------+---------------+-----+-----------+--------------+\n",
      "|Invoice|StockCode|         Description|Quantity|    InvoiceDate|Price|Customer ID|       Country|\n",
      "+-------+---------+--------------------+--------+---------------+-----+-----------+--------------+\n",
      "| 489434|    85048|15CM CHRISTMAS GL...|      12|01/12/2009 7:45| 6.95|      13085|United Kingdom|\n",
      "| 489434|   79323P|  PINK CHERRY LIGHTS|      12|01/12/2009 7:45| 6.75|      13085|United Kingdom|\n",
      "| 489434|   79323W| WHITE CHERRY LIGHTS|      12|01/12/2009 7:45| 6.75|      13085|United Kingdom|\n",
      "| 489434|    22041|\"RECORD FRAME 7\"\"...|      48|01/12/2009 7:45|  2.1|      13085|United Kingdom|\n",
      "| 489434|    21232|STRAWBERRY CERAMI...|      24|01/12/2009 7:45| 1.25|      13085|United Kingdom|\n",
      "| 489434|    22064|PINK DOUGHNUT TRI...|      24|01/12/2009 7:45| 1.65|      13085|United Kingdom|\n",
      "| 489434|    21871| SAVE THE PLANET MUG|      24|01/12/2009 7:45| 1.25|      13085|United Kingdom|\n",
      "| 489434|    21523|FANCY FONT HOME S...|      10|01/12/2009 7:45| 5.95|      13085|United Kingdom|\n",
      "| 489435|    22350|           CAT BOWL |      12|01/12/2009 7:46| 2.55|      13085|United Kingdom|\n",
      "| 489435|    22349|DOG BOWL . CHASIN...|      12|01/12/2009 7:46| 3.75|      13085|United Kingdom|\n",
      "| 489435|    22195|HEART MEASURING S...|      24|01/12/2009 7:46| 1.65|      13085|United Kingdom|\n",
      "| 489435|    22353|LUNCHBOX WITH CUT...|      12|01/12/2009 7:46| 2.55|      13085|United Kingdom|\n",
      "| 489436|   48173C|DOOR MAT BLACK FL...|      10|01/12/2009 9:06| 5.95|      13078|United Kingdom|\n",
      "| 489436|    21755|LOVE BUILDING BLO...|      18|01/12/2009 9:06| 5.45|      13078|United Kingdom|\n",
      "| 489436|    21754|HOME BUILDING BLO...|       3|01/12/2009 9:06| 5.95|      13078|United Kingdom|\n",
      "| 489436|    84879|ASSORTED COLOUR B...|      16|01/12/2009 9:06| 1.69|      13078|United Kingdom|\n",
      "| 489436|    22119| PEACE WOODEN BLO...|       3|01/12/2009 9:06| 6.95|      13078|United Kingdom|\n",
      "| 489436|    22142|CHRISTMAS CRAFT W...|      12|01/12/2009 9:06| 1.45|      13078|United Kingdom|\n",
      "| 489436|    22296|HEART IVORY TRELL...|      12|01/12/2009 9:06| 1.65|      13078|United Kingdom|\n",
      "| 489436|    22295|HEART FILIGREE DO...|      12|01/12/2009 9:06| 1.65|      13078|United Kingdom|\n",
      "+-------+---------+--------------------+--------+---------------+-----+-----------+--------------+\n",
      "only showing top 20 rows\n",
      "\n"
     ]
    },
    {
     "data": {
      "text/plain": [
       "1005628"
      ]
     },
     "execution_count": 5,
     "metadata": {},
     "output_type": "execute_result"
    }
   ],
   "source": [
    "ventas = ventas_1.union( ventas_2 )\n",
    "\n",
    "ventas.printSchema()\n",
    "ventas.show()\n",
    "ventas.count()\n"
   ]
  },
  {
   "cell_type": "markdown",
   "metadata": {},
   "source": [
    "\n",
    "## 2. EDA"
   ]
  },
  {
   "cell_type": "markdown",
   "metadata": {},
   "source": [
    "### Renombrando las columnas"
   ]
  },
  {
   "cell_type": "code",
   "execution_count": 6,
   "metadata": {},
   "outputs": [],
   "source": [
    "from pyspark.sql.functions import *\n"
   ]
  },
  {
   "cell_type": "code",
   "execution_count": 7,
   "metadata": {},
   "outputs": [
    {
     "name": "stdout",
     "output_type": "stream",
     "text": [
      "root\n",
      " |-- Invoice: string (nullable = true)\n",
      " |-- StockCode: string (nullable = true)\n",
      " |-- Description: string (nullable = true)\n",
      " |-- Quantity: integer (nullable = true)\n",
      " |-- InvoiceDate: string (nullable = true)\n",
      " |-- Price: double (nullable = true)\n",
      " |-- CustomerID: integer (nullable = true)\n",
      " |-- Country: string (nullable = true)\n",
      "\n",
      "+-------+---------+--------------------+--------+---------------+-----+----------+--------------+\n",
      "|Invoice|StockCode|         Description|Quantity|    InvoiceDate|Price|CustomerID|       Country|\n",
      "+-------+---------+--------------------+--------+---------------+-----+----------+--------------+\n",
      "| 489434|    85048|15CM CHRISTMAS GL...|      12|01/12/2009 7:45| 6.95|     13085|United Kingdom|\n",
      "| 489434|   79323P|  PINK CHERRY LIGHTS|      12|01/12/2009 7:45| 6.75|     13085|United Kingdom|\n",
      "| 489434|   79323W| WHITE CHERRY LIGHTS|      12|01/12/2009 7:45| 6.75|     13085|United Kingdom|\n",
      "| 489434|    22041|\"RECORD FRAME 7\"\"...|      48|01/12/2009 7:45|  2.1|     13085|United Kingdom|\n",
      "| 489434|    21232|STRAWBERRY CERAMI...|      24|01/12/2009 7:45| 1.25|     13085|United Kingdom|\n",
      "| 489434|    22064|PINK DOUGHNUT TRI...|      24|01/12/2009 7:45| 1.65|     13085|United Kingdom|\n",
      "| 489434|    21871| SAVE THE PLANET MUG|      24|01/12/2009 7:45| 1.25|     13085|United Kingdom|\n",
      "| 489434|    21523|FANCY FONT HOME S...|      10|01/12/2009 7:45| 5.95|     13085|United Kingdom|\n",
      "| 489435|    22350|           CAT BOWL |      12|01/12/2009 7:46| 2.55|     13085|United Kingdom|\n",
      "| 489435|    22349|DOG BOWL . CHASIN...|      12|01/12/2009 7:46| 3.75|     13085|United Kingdom|\n",
      "| 489435|    22195|HEART MEASURING S...|      24|01/12/2009 7:46| 1.65|     13085|United Kingdom|\n",
      "| 489435|    22353|LUNCHBOX WITH CUT...|      12|01/12/2009 7:46| 2.55|     13085|United Kingdom|\n",
      "| 489436|   48173C|DOOR MAT BLACK FL...|      10|01/12/2009 9:06| 5.95|     13078|United Kingdom|\n",
      "| 489436|    21755|LOVE BUILDING BLO...|      18|01/12/2009 9:06| 5.45|     13078|United Kingdom|\n",
      "| 489436|    21754|HOME BUILDING BLO...|       3|01/12/2009 9:06| 5.95|     13078|United Kingdom|\n",
      "| 489436|    84879|ASSORTED COLOUR B...|      16|01/12/2009 9:06| 1.69|     13078|United Kingdom|\n",
      "| 489436|    22119| PEACE WOODEN BLO...|       3|01/12/2009 9:06| 6.95|     13078|United Kingdom|\n",
      "| 489436|    22142|CHRISTMAS CRAFT W...|      12|01/12/2009 9:06| 1.45|     13078|United Kingdom|\n",
      "| 489436|    22296|HEART IVORY TRELL...|      12|01/12/2009 9:06| 1.65|     13078|United Kingdom|\n",
      "| 489436|    22295|HEART FILIGREE DO...|      12|01/12/2009 9:06| 1.65|     13078|United Kingdom|\n",
      "+-------+---------+--------------------+--------+---------------+-----+----------+--------------+\n",
      "only showing top 20 rows\n",
      "\n"
     ]
    }
   ],
   "source": [
    "renameColumnsDF = ventas.select( col(\"Invoice\"), \"StockCode\", \"Description\", \"Quantity\", \"InvoiceDate\", \"Price\", col(\"Customer ID\").alias(\"CustomerID\"), \"Country\" )\n",
    "\n",
    "renameColumnsDF.printSchema()\n",
    "renameColumnsDF.show()\n"
   ]
  },
  {
   "cell_type": "markdown",
   "metadata": {},
   "source": [
    "### Valores Nulos (*null*)"
   ]
  },
  {
   "cell_type": "code",
   "execution_count": 8,
   "metadata": {},
   "outputs": [],
   "source": [
    "# manipulación de valores nulos (null) en un DATASET\n",
    "\n",
    "from pyspark.sql.functions import isnan, when, count, col\n",
    "ventasDF = renameColumnsDF\n"
   ]
  },
  {
   "cell_type": "code",
   "execution_count": 9,
   "metadata": {},
   "outputs": [
    {
     "name": "stdout",
     "output_type": "stream",
     "text": [
      "+-------+---------+-----------+--------+-----------+-----+----------+-------+\n",
      "|Invoice|StockCode|Description|Quantity|InvoiceDate|Price|CustomerID|Country|\n",
      "+-------+---------+-----------+--------+-----------+-----+----------+-------+\n",
      "|      0|        0|          0|       0|          0|    0|         0|      0|\n",
      "+-------+---------+-----------+--------+-----------+-----+----------+-------+\n",
      "\n",
      "+-------+---------+-----------+--------+-----------+-----+----------+-------+\n",
      "|Invoice|StockCode|Description|Quantity|InvoiceDate|Price|CustomerID|Country|\n",
      "+-------+---------+-----------+--------+-----------+-----+----------+-------+\n",
      "|      0|        0|       4230|       0|          0|    0|    226764|      0|\n",
      "+-------+---------+-----------+--------+-----------+-----+----------+-------+\n",
      "\n"
     ]
    },
    {
     "data": {
      "text/plain": [
       "1005628"
      ]
     },
     "execution_count": 9,
     "metadata": {},
     "output_type": "execute_result"
    }
   ],
   "source": [
    "ventasDF.select( [count(when(isnan(c), c)).alias(c) for c in ventasDF.columns] ).show()\n",
    "\n",
    "ventasDF.select( [ count(when( isnan(c) | col(c).isNull(), c )).alias(c) for c in ventasDF.columns ] ).show()\n",
    "\n",
    "ventasDF.count()\n"
   ]
  },
  {
   "cell_type": "code",
   "execution_count": 10,
   "metadata": {},
   "outputs": [],
   "source": [
    "# usando una vista temporal para manipular los datos del \"dataframe\"\n",
    "\n",
    "ventasDF.createOrReplaceTempView( \"ventas\" )\n"
   ]
  },
  {
   "cell_type": "markdown",
   "metadata": {},
   "source": [
    "#### *Ejemplo:*"
   ]
  },
  {
   "cell_type": "code",
   "execution_count": 11,
   "metadata": {},
   "outputs": [
    {
     "name": "stdout",
     "output_type": "stream",
     "text": [
      "+-------+---------+-------------------+--------+----------------+-----+----------+--------------+\n",
      "|Invoice|StockCode|        Description|Quantity|     InvoiceDate|Price|CustomerID|       Country|\n",
      "+-------+---------+-------------------+--------+----------------+-----+----------+--------------+\n",
      "| 489463|    71477|              short|    -240|01/12/2009 10:52|  0.0|      null|United Kingdom|\n",
      "| 489464|    21733|       85123a mixed|     -96|01/12/2009 10:52|  0.0|      null|United Kingdom|\n",
      "| 489467|   85123A|        21733 mixed|    -192|01/12/2009 10:53|  0.0|      null|United Kingdom|\n",
      "| 489521|    21646|               null|     -50|01/12/2009 11:44|  0.0|      null|United Kingdom|\n",
      "| 489655|    20683|               null|     -44|01/12/2009 17:26|  0.0|      null|United Kingdom|\n",
      "| 489659|    21350|               null|     230|01/12/2009 17:39|  0.0|      null|United Kingdom|\n",
      "| 489660|    35956|               lost|   -1043|01/12/2009 17:43|  0.0|      null|United Kingdom|\n",
      "| 489663|   35605A|            damages|    -117|01/12/2009 18:02|  0.0|      null|United Kingdom|\n",
      "| 489781|    84292|               null|      17|02/12/2009 11:45|  0.0|      null|United Kingdom|\n",
      "| 489806|    18010|               null|    -770|02/12/2009 12:42|  0.0|      null|United Kingdom|\n",
      "| 489820|    21133|    invcd as 84879?|    -720|02/12/2009 13:23|  0.0|      null|United Kingdom|\n",
      "| 489821|   85049G|               null|    -240|02/12/2009 13:25|  0.0|      null|United Kingdom|\n",
      "| 489825|    22076| 6 RIBBONS EMPIRE  |      12|02/12/2009 13:34|  0.0|     16126|United Kingdom|\n",
      "| 489861|      DOT|     DOTCOM POSTAGE|       1|02/12/2009 14:50|  0.0|      null|United Kingdom|\n",
      "| 489882|   35751C|               null|      12|02/12/2009 16:22|  0.0|      null|United Kingdom|\n",
      "| 489898|   79323G|               null|     954| 03/12/2009 9:40|  0.0|      null|United Kingdom|\n",
      "| 489899|  79323GR|       sold as gold|    -954| 03/12/2009 9:41|  0.0|      null|United Kingdom|\n",
      "| 489901|    21098|               null|    -200| 03/12/2009 9:47|  0.0|      null|United Kingdom|\n",
      "| 489903|    21166|               null|      48| 03/12/2009 9:57|  0.0|      null|United Kingdom|\n",
      "| 489998|    48185|DOOR MAT FAIRY CAKE|       2|03/12/2009 11:19|  0.0|     15658|United Kingdom|\n",
      "+-------+---------+-------------------+--------+----------------+-----+----------+--------------+\n",
      "only showing top 20 rows\n",
      "\n"
     ]
    }
   ],
   "source": [
    "# mostrar los precios menores a cero, ademas observando los campos con valores NULOS\n",
    "\n",
    "preciosMenores = spark.sql( \"\"\"\n",
    "    select v.Invoice, v.StockCode, v.Description, v.Quantity, v.InvoiceDate, v.Price, v.CustomerID, v.Country\n",
    "    from ventas v\n",
    "    where v.Price <= 0\n",
    "    order by v.Invoice\n",
    "\"\"\" )\n",
    "\n",
    "preciosMenores.show()\n"
   ]
  },
  {
   "cell_type": "code",
   "execution_count": 12,
   "metadata": {},
   "outputs": [
    {
     "name": "stdout",
     "output_type": "stream",
     "text": [
      "+-------+---------+-----------+--------+-----------+-----+----------+-------+\n",
      "|Invoice|StockCode|Description|Quantity|InvoiceDate|Price|CustomerID|Country|\n",
      "+-------+---------+-----------+--------+-----------+-----+----------+-------+\n",
      "|      0|        0|          0|       0|          0|    0|         0|      0|\n",
      "+-------+---------+-----------+--------+-----------+-----+----------+-------+\n",
      "\n",
      "root\n",
      " |-- Invoice: string (nullable = true)\n",
      " |-- StockCode: string (nullable = true)\n",
      " |-- Description: string (nullable = true)\n",
      " |-- Quantity: integer (nullable = true)\n",
      " |-- InvoiceDate: string (nullable = true)\n",
      " |-- Price: double (nullable = true)\n",
      " |-- CustomerID: integer (nullable = true)\n",
      " |-- Country: string (nullable = true)\n",
      "\n",
      "+-------+---------+--------------------+--------+---------------+-----+----------+--------------+\n",
      "|Invoice|StockCode|         Description|Quantity|    InvoiceDate|Price|CustomerID|       Country|\n",
      "+-------+---------+--------------------+--------+---------------+-----+----------+--------------+\n",
      "| 489434|    85048|15CM CHRISTMAS GL...|      12|01/12/2009 7:45| 6.95|     13085|United Kingdom|\n",
      "| 489434|   79323P|  PINK CHERRY LIGHTS|      12|01/12/2009 7:45| 6.75|     13085|United Kingdom|\n",
      "| 489434|   79323W| WHITE CHERRY LIGHTS|      12|01/12/2009 7:45| 6.75|     13085|United Kingdom|\n",
      "| 489434|    22041|\"RECORD FRAME 7\"\"...|      48|01/12/2009 7:45|  2.1|     13085|United Kingdom|\n",
      "| 489434|    21232|STRAWBERRY CERAMI...|      24|01/12/2009 7:45| 1.25|     13085|United Kingdom|\n",
      "| 489434|    22064|PINK DOUGHNUT TRI...|      24|01/12/2009 7:45| 1.65|     13085|United Kingdom|\n",
      "| 489434|    21871| SAVE THE PLANET MUG|      24|01/12/2009 7:45| 1.25|     13085|United Kingdom|\n",
      "| 489434|    21523|FANCY FONT HOME S...|      10|01/12/2009 7:45| 5.95|     13085|United Kingdom|\n",
      "| 489435|    22350|           CAT BOWL |      12|01/12/2009 7:46| 2.55|     13085|United Kingdom|\n",
      "| 489435|    22349|DOG BOWL . CHASIN...|      12|01/12/2009 7:46| 3.75|     13085|United Kingdom|\n",
      "| 489435|    22195|HEART MEASURING S...|      24|01/12/2009 7:46| 1.65|     13085|United Kingdom|\n",
      "| 489435|    22353|LUNCHBOX WITH CUT...|      12|01/12/2009 7:46| 2.55|     13085|United Kingdom|\n",
      "| 489436|   48173C|DOOR MAT BLACK FL...|      10|01/12/2009 9:06| 5.95|     13078|United Kingdom|\n",
      "| 489436|    21755|LOVE BUILDING BLO...|      18|01/12/2009 9:06| 5.45|     13078|United Kingdom|\n",
      "| 489436|    21754|HOME BUILDING BLO...|       3|01/12/2009 9:06| 5.95|     13078|United Kingdom|\n",
      "| 489436|    84879|ASSORTED COLOUR B...|      16|01/12/2009 9:06| 1.69|     13078|United Kingdom|\n",
      "| 489436|    22119| PEACE WOODEN BLO...|       3|01/12/2009 9:06| 6.95|     13078|United Kingdom|\n",
      "| 489436|    22142|CHRISTMAS CRAFT W...|      12|01/12/2009 9:06| 1.45|     13078|United Kingdom|\n",
      "| 489436|    22296|HEART IVORY TRELL...|      12|01/12/2009 9:06| 1.65|     13078|United Kingdom|\n",
      "| 489436|    22295|HEART FILIGREE DO...|      12|01/12/2009 9:06| 1.65|     13078|United Kingdom|\n",
      "+-------+---------+--------------------+--------+---------------+-----+----------+--------------+\n",
      "only showing top 20 rows\n",
      "\n"
     ]
    }
   ],
   "source": [
    "# descartando valores nulos de la columna: \"Description\" y \"CustomerID\"\n",
    "\n",
    "sinNulosDF = spark.sql( \"\"\"\n",
    "    select v.Invoice, v.StockCode, v.Description, v.Quantity, v.InvoiceDate, v.Price, v.CustomerID, v.Country\n",
    "    from ventas v\n",
    "    where v.Description != '1' and v.CustomerID != 1\n",
    "\"\"\" )\n",
    "\n",
    "sinNulosDF.select( [ count(when( isnan(c) | col(c).isNull(), c )).alias(c) for c in sinNulosDF.columns ] ).show()\n",
    "\n",
    "sinNulosDF.printSchema()\n",
    "sinNulosDF.show()\n"
   ]
  },
  {
   "cell_type": "code",
   "execution_count": 13,
   "metadata": {},
   "outputs": [
    {
     "data": {
      "text/plain": [
       "1005628"
      ]
     },
     "execution_count": 13,
     "metadata": {},
     "output_type": "execute_result"
    }
   ],
   "source": [
    "# cantidad del \"Dataframe\" CON valores NULOS\n",
    "\n",
    "ventasDF.count()\n"
   ]
  },
  {
   "cell_type": "code",
   "execution_count": 14,
   "metadata": {},
   "outputs": [
    {
     "data": {
      "text/plain": [
       "778864"
      ]
     },
     "execution_count": 14,
     "metadata": {},
     "output_type": "execute_result"
    }
   ],
   "source": [
    "# cantidad del \"Dataframe\" SIN valores NULOS\n",
    "\n",
    "sinNulosDF.count() # 460943 -- solo con los datos de \"Description\"\n"
   ]
  },
  {
   "cell_type": "markdown",
   "metadata": {},
   "source": [
    "### Casteo del tipo de dato"
   ]
  },
  {
   "cell_type": "code",
   "execution_count": 15,
   "metadata": {},
   "outputs": [
    {
     "name": "stdout",
     "output_type": "stream",
     "text": [
      "root\n",
      " |-- Invoice: string (nullable = true)\n",
      " |-- InvoiceINT: integer (nullable = true)\n",
      " |-- StockCode: string (nullable = true)\n",
      " |-- Description: string (nullable = true)\n",
      " |-- Quantity: integer (nullable = true)\n",
      " |-- InvoiceDate: string (nullable = true)\n",
      " |-- Price: double (nullable = true)\n",
      " |-- CustomerID: integer (nullable = true)\n",
      " |-- Country: string (nullable = true)\n",
      "\n",
      "+-------+----------+---------+--------------------+--------+---------------+-----+----------+--------------+\n",
      "|Invoice|InvoiceINT|StockCode|         Description|Quantity|    InvoiceDate|Price|CustomerID|       Country|\n",
      "+-------+----------+---------+--------------------+--------+---------------+-----+----------+--------------+\n",
      "| 489434|    489434|    85048|15CM CHRISTMAS GL...|      12|01/12/2009 7:45| 6.95|     13085|United Kingdom|\n",
      "| 489434|    489434|   79323P|  PINK CHERRY LIGHTS|      12|01/12/2009 7:45| 6.75|     13085|United Kingdom|\n",
      "| 489434|    489434|   79323W| WHITE CHERRY LIGHTS|      12|01/12/2009 7:45| 6.75|     13085|United Kingdom|\n",
      "| 489434|    489434|    22041|\"RECORD FRAME 7\"\"...|      48|01/12/2009 7:45|  2.1|     13085|United Kingdom|\n",
      "| 489434|    489434|    21232|STRAWBERRY CERAMI...|      24|01/12/2009 7:45| 1.25|     13085|United Kingdom|\n",
      "| 489434|    489434|    22064|PINK DOUGHNUT TRI...|      24|01/12/2009 7:45| 1.65|     13085|United Kingdom|\n",
      "| 489434|    489434|    21871| SAVE THE PLANET MUG|      24|01/12/2009 7:45| 1.25|     13085|United Kingdom|\n",
      "| 489434|    489434|    21523|FANCY FONT HOME S...|      10|01/12/2009 7:45| 5.95|     13085|United Kingdom|\n",
      "| 489435|    489435|    22350|           CAT BOWL |      12|01/12/2009 7:46| 2.55|     13085|United Kingdom|\n",
      "| 489435|    489435|    22349|DOG BOWL . CHASIN...|      12|01/12/2009 7:46| 3.75|     13085|United Kingdom|\n",
      "| 489435|    489435|    22195|HEART MEASURING S...|      24|01/12/2009 7:46| 1.65|     13085|United Kingdom|\n",
      "| 489435|    489435|    22353|LUNCHBOX WITH CUT...|      12|01/12/2009 7:46| 2.55|     13085|United Kingdom|\n",
      "| 489436|    489436|   48173C|DOOR MAT BLACK FL...|      10|01/12/2009 9:06| 5.95|     13078|United Kingdom|\n",
      "| 489436|    489436|    21755|LOVE BUILDING BLO...|      18|01/12/2009 9:06| 5.45|     13078|United Kingdom|\n",
      "| 489436|    489436|    21754|HOME BUILDING BLO...|       3|01/12/2009 9:06| 5.95|     13078|United Kingdom|\n",
      "| 489436|    489436|    84879|ASSORTED COLOUR B...|      16|01/12/2009 9:06| 1.69|     13078|United Kingdom|\n",
      "| 489436|    489436|    22119| PEACE WOODEN BLO...|       3|01/12/2009 9:06| 6.95|     13078|United Kingdom|\n",
      "| 489436|    489436|    22142|CHRISTMAS CRAFT W...|      12|01/12/2009 9:06| 1.45|     13078|United Kingdom|\n",
      "| 489436|    489436|    22296|HEART IVORY TRELL...|      12|01/12/2009 9:06| 1.65|     13078|United Kingdom|\n",
      "| 489436|    489436|    22295|HEART FILIGREE DO...|      12|01/12/2009 9:06| 1.65|     13078|United Kingdom|\n",
      "+-------+----------+---------+--------------------+--------+---------------+-----+----------+--------------+\n",
      "only showing top 20 rows\n",
      "\n"
     ]
    }
   ],
   "source": [
    "# casteando el tipo de dato de las columnas necesarias\n",
    "\n",
    "ventasDF = sinNulosDF\n",
    "\n",
    "casteoDF = ventasDF.select( \"Invoice\", ventasDF.Invoice.cast('int').alias('InvoiceINT'), \"StockCode\", \"Description\", \"Quantity\", \"InvoiceDate\", \"Price\", \"CustomerID\", \"Country\" )\n",
    "casteoDF.printSchema()\n",
    "casteoDF.show()\n"
   ]
  },
  {
   "cell_type": "code",
   "execution_count": 16,
   "metadata": {},
   "outputs": [],
   "source": [
    "# usando una NUEVA vista temporal para datos del \"dataframe\"\n",
    "\n",
    "casteoDF.createOrReplaceTempView( \"ventas\" )\n"
   ]
  },
  {
   "cell_type": "code",
   "execution_count": 17,
   "metadata": {},
   "outputs": [
    {
     "name": "stdout",
     "output_type": "stream",
     "text": [
      "root\n",
      " |-- Invoice: string (nullable = true)\n",
      " |-- StockCode: string (nullable = true)\n",
      " |-- Description: string (nullable = true)\n",
      " |-- Quantity: integer (nullable = true)\n",
      " |-- Fecha: date (nullable = true)\n",
      " |-- Price: double (nullable = true)\n",
      " |-- CustomerID: integer (nullable = true)\n",
      " |-- Country: string (nullable = true)\n",
      "\n",
      "+-------+---------+--------------------+--------+----------+-----+----------+--------------+\n",
      "|Invoice|StockCode|         Description|Quantity|     Fecha|Price|CustomerID|       Country|\n",
      "+-------+---------+--------------------+--------+----------+-----+----------+--------------+\n",
      "| 489434|    85048|15CM CHRISTMAS GL...|      12|2009-12-01| 6.95|     13085|United Kingdom|\n",
      "| 489434|   79323P|  PINK CHERRY LIGHTS|      12|2009-12-01| 6.75|     13085|United Kingdom|\n",
      "| 489434|   79323W| WHITE CHERRY LIGHTS|      12|2009-12-01| 6.75|     13085|United Kingdom|\n",
      "| 489434|    22041|\"RECORD FRAME 7\"\"...|      48|2009-12-01|  2.1|     13085|United Kingdom|\n",
      "| 489434|    21232|STRAWBERRY CERAMI...|      24|2009-12-01| 1.25|     13085|United Kingdom|\n",
      "| 489434|    22064|PINK DOUGHNUT TRI...|      24|2009-12-01| 1.65|     13085|United Kingdom|\n",
      "| 489434|    21871| SAVE THE PLANET MUG|      24|2009-12-01| 1.25|     13085|United Kingdom|\n",
      "| 489434|    21523|FANCY FONT HOME S...|      10|2009-12-01| 5.95|     13085|United Kingdom|\n",
      "| 489435|    22350|           CAT BOWL |      12|2009-12-01| 2.55|     13085|United Kingdom|\n",
      "| 489435|    22349|DOG BOWL . CHASIN...|      12|2009-12-01| 3.75|     13085|United Kingdom|\n",
      "| 489435|    22195|HEART MEASURING S...|      24|2009-12-01| 1.65|     13085|United Kingdom|\n",
      "| 489435|    22353|LUNCHBOX WITH CUT...|      12|2009-12-01| 2.55|     13085|United Kingdom|\n",
      "| 489436|   48173C|DOOR MAT BLACK FL...|      10|2009-12-01| 5.95|     13078|United Kingdom|\n",
      "| 489436|    21755|LOVE BUILDING BLO...|      18|2009-12-01| 5.45|     13078|United Kingdom|\n",
      "| 489436|    21754|HOME BUILDING BLO...|       3|2009-12-01| 5.95|     13078|United Kingdom|\n",
      "| 489436|    84879|ASSORTED COLOUR B...|      16|2009-12-01| 1.69|     13078|United Kingdom|\n",
      "| 489436|    22119| PEACE WOODEN BLO...|       3|2009-12-01| 6.95|     13078|United Kingdom|\n",
      "| 489436|    22142|CHRISTMAS CRAFT W...|      12|2009-12-01| 1.45|     13078|United Kingdom|\n",
      "| 489436|    22296|HEART IVORY TRELL...|      12|2009-12-01| 1.65|     13078|United Kingdom|\n",
      "| 489436|    22295|HEART FILIGREE DO...|      12|2009-12-01| 1.65|     13078|United Kingdom|\n",
      "+-------+---------+--------------------+--------+----------+-----+----------+--------------+\n",
      "only showing top 20 rows\n",
      "\n"
     ]
    },
    {
     "data": {
      "text/plain": [
       "778864"
      ]
     },
     "execution_count": 17,
     "metadata": {},
     "output_type": "execute_result"
    }
   ],
   "source": [
    "# casteo de datos String a Date: Ejemplo: -->  TO_DATE(CAST(UNIX_TIMESTAMP(date, 'MM/dd/yyyy') AS TIMESTAMP))\n",
    "\n",
    "formatoDateDF = spark.sql( \"\"\"\n",
    "    select v.Invoice, v.StockCode, v.Description, v.Quantity, TO_DATE( CAST( UNIX_TIMESTAMP( v.InvoiceDate, 'dd/MM/yyyy') AS TIMESTAMP ) ) as Fecha, v.Price, v.CustomerID, v.Country\n",
    "    from ventas v\n",
    "\"\"\" )\n",
    "\n",
    "formatoDateDF.printSchema()\n",
    "formatoDateDF.show()\n",
    "formatoDateDF.count()\n"
   ]
  },
  {
   "cell_type": "markdown",
   "metadata": {},
   "source": [
    "### Eliminacion de Filas repetidas"
   ]
  },
  {
   "cell_type": "code",
   "execution_count": 18,
   "metadata": {
    "scrolled": false
   },
   "outputs": [
    {
     "name": "stdout",
     "output_type": "stream",
     "text": [
      "root\n",
      " |-- Invoice: string (nullable = true)\n",
      " |-- StockCode: string (nullable = true)\n",
      "\n",
      "+-------+---------+\n",
      "|Invoice|StockCode|\n",
      "+-------+---------+\n",
      "|489461 |82582    |\n",
      "|489529 |20773    |\n",
      "|489529 |21122    |\n",
      "|489536 |22189    |\n",
      "|489536 |48179    |\n",
      "|489557 |16169D   |\n",
      "|489561 |21816    |\n",
      "|489567 |48195    |\n",
      "|489571 |22189    |\n",
      "|489572 |85028S   |\n",
      "|489598 |20982    |\n",
      "|489599 |21239    |\n",
      "|489617 |46000M   |\n",
      "|489637 |21796    |\n",
      "|489637 |48111    |\n",
      "|489654 |70007    |\n",
      "|489683 |20913    |\n",
      "|489766 |21244    |\n",
      "|489787 |21990    |\n",
      "|489789 |15056BL  |\n",
      "+-------+---------+\n",
      "only showing top 20 rows\n",
      "\n"
     ]
    },
    {
     "data": {
      "text/plain": [
       "757910"
      ]
     },
     "execution_count": 18,
     "metadata": {},
     "output_type": "execute_result"
    }
   ],
   "source": [
    "# eliminando filas repetidas, utilizando solo las columnas necesarias\n",
    "\n",
    "formatoDateDF.createOrReplaceTempView( \"ventas\" )\n",
    "\n",
    "filasNoRepetidasDF = spark.sql( \"\"\"\n",
    "    select distinct(v.Invoice), v.StockCode\n",
    "    from ventas v\n",
    "\"\"\" )\n",
    "\n",
    "filasNoRepetidasDF.printSchema()\n",
    "filasNoRepetidasDF.show( truncate=False )\n",
    "filasNoRepetidasDF.count() # 366265  --> con datos de un dataframe\n"
   ]
  },
  {
   "cell_type": "code",
   "execution_count": 19,
   "metadata": {},
   "outputs": [
    {
     "data": {
      "text/plain": [
       "757910"
      ]
     },
     "execution_count": 19,
     "metadata": {},
     "output_type": "execute_result"
    }
   ],
   "source": [
    "757910"
   ]
  },
  {
   "cell_type": "markdown",
   "metadata": {},
   "source": [
    "#### Ejemplo:"
   ]
  },
  {
   "cell_type": "code",
   "execution_count": 20,
   "metadata": {
    "scrolled": true
   },
   "outputs": [
    {
     "name": "stdout",
     "output_type": "stream",
     "text": [
      "root\n",
      " |-- Invoice: string (nullable = true)\n",
      " |-- StockCode: string (nullable = true)\n",
      " |-- Description: string (nullable = true)\n",
      " |-- Quantity: integer (nullable = true)\n",
      " |-- InvoiceDate: string (nullable = true)\n",
      " |-- Price: double (nullable = true)\n",
      " |-- CustomerID: integer (nullable = true)\n",
      " |-- Country: string (nullable = true)\n",
      "\n",
      "+-------+---------+--------------------+--------+----------------+-----+----------+--------------+\n",
      "|Invoice|StockCode|         Description|Quantity|     InvoiceDate|Price|CustomerID|       Country|\n",
      "+-------+---------+--------------------+--------+----------------+-----+----------+--------------+\n",
      "| 489437|    20971|PINK BLUE FELT CR...|      12| 01/12/2009 9:08| 1.25|     15362|United Kingdom|\n",
      "| 489488|    20971|PINK BLUE FELT CR...|       1|01/12/2009 10:59| 1.25|     17238|United Kingdom|\n",
      "| 489517|    20971|PINK BLUE FELT CR...|       1|01/12/2009 11:34| 1.25|     16329|United Kingdom|\n",
      "| 489537|    20971|PINK BLUE FELT CR...|       5|01/12/2009 12:14| 1.25|     14040|United Kingdom|\n",
      "| 489675|    20971|PINK BLUE FELT CR...|     240| 02/12/2009 9:47| 1.06|     13777|United Kingdom|\n",
      "| 489825|    20971|PINK BLUE FELT CR...|      24|02/12/2009 13:34| 1.25|     16126|United Kingdom|\n",
      "| 489894|    20971|PINK BLUE FELT CR...|      12|02/12/2009 17:18| 1.25|     17716|United Kingdom|\n",
      "| 490082|    20971|PINK BLUE FELT CR...|      48|03/12/2009 15:34| 1.25|     14952|United Kingdom|\n",
      "| 490091|    20971|PINK BLUE FELT CR...|     600|03/12/2009 15:54| 1.06|     17949|United Kingdom|\n",
      "| 490115|    20971|PINK BLUE FELT CR...|      24|03/12/2009 17:32| 1.25|     17679|United Kingdom|\n",
      "|C490133|    20971|PINK BLUE FELT CR...|    -600|03/12/2009 18:36| 1.06|     17949|United Kingdom|\n",
      "| 490161|    20971|PINK BLUE FELT CR...|      12|04/12/2009 10:57| 1.25|     17160|United Kingdom|\n",
      "| 490287|    20971|PINK BLUE FELT CR...|      12|04/12/2009 13:00| 1.25|     16746|United Kingdom|\n",
      "| 490312|    20971|PINK BLUE FELT CR...|       1|04/12/2009 15:16| 1.25|     17961|United Kingdom|\n",
      "| 490471|    20971|PINK BLUE FELT CR...|       7|06/12/2009 12:28| 1.25|     15878|United Kingdom|\n",
      "| 490474|    20971|PINK BLUE FELT CR...|      12|06/12/2009 12:34| 1.25|     13373|United Kingdom|\n",
      "| 490534|    20971|PINK BLUE FELT CR...|       5|06/12/2009 16:17| 1.25|     17530|United Kingdom|\n",
      "| 490603|    20971|PINK BLUE FELT CR...|       1|07/12/2009 11:05| 1.25|     14695|United Kingdom|\n",
      "| 490642|    20971|PINK BLUE FELT CR...|      12|07/12/2009 12:19| 1.25|     15358|United Kingdom|\n",
      "| 490657|    20971|PINK BLUE FELT CR...|      12|07/12/2009 12:26| 1.25|     14471|United Kingdom|\n",
      "| 490937|    20971|PINK BLUE FELT CR...|      12|08/12/2009 13:58| 1.25|     13081|United Kingdom|\n",
      "| 490968|    20971|PINK BLUE FELT CR...|      24|08/12/2009 16:21| 1.25|     13798|United Kingdom|\n",
      "| 491090|    20971|PINK BLUE FELT CR...|      12|09/12/2009 13:34| 1.25|     13141|United Kingdom|\n",
      "| 491111|    20971|PINK BLUE FELT CR...|       3|09/12/2009 14:38| 1.25|     15005|United Kingdom|\n",
      "| 491116|    20971|PINK BLUE FELT CR...|      12|09/12/2009 14:55| 1.25|     15441|United Kingdom|\n",
      "| 491211|    20971|PINK BLUE FELT CR...|      24|10/12/2009 14:22| 1.25|     14895|United Kingdom|\n",
      "| 491435|    20971|PINK BLUE FELT CR...|       1|11/12/2009 10:10| 1.25|     14606|United Kingdom|\n",
      "| 491584|    20971|PINK BLUE FELT CR...|       4|11/12/2009 12:55| 1.25|     12854|United Kingdom|\n",
      "| 491630|    20971|PINK BLUE FELT CR...|       3|11/12/2009 14:39| 1.25|     17851|United Kingdom|\n",
      "| 491679|    20971|PINK BLUE FELT CR...|       1|13/12/2009 12:19| 1.25|     16127|United Kingdom|\n",
      "| 491803|    20971|PINK BLUE FELT CR...|      12|14/12/2009 13:06| 1.25|     16327|United Kingdom|\n",
      "| 491967|    20971|PINK BLUE FELT CR...|      24|14/12/2009 17:34| 1.25|     17012|United Kingdom|\n",
      "| 492282|    20971|PINK BLUE FELT CR...|      12|16/12/2009 11:43| 1.25|     14869|United Kingdom|\n",
      "| 492369|    20971|PINK BLUE FELT CR...|      12|16/12/2009 14:09| 1.25|     16195|United Kingdom|\n",
      "| 492413|    20971|PINK BLUE FELT CR...|       3|16/12/2009 16:25| 1.25|     12867|United Kingdom|\n",
      "| 492437|    20971|PINK BLUE FELT CR...|      12|17/12/2009 10:27| 1.25|     13269|United Kingdom|\n",
      "| 492517|    20971|PINK BLUE FELT CR...|      12|17/12/2009 11:59| 1.25|     17612|United Kingdom|\n",
      "| 492547|    20971|PINK BLUE FELT CR...|      12|17/12/2009 14:08| 1.25|     17103|United Kingdom|\n",
      "| 492726|    20971|PINK BLUE FELT CR...|      12|18/12/2009 11:03| 1.25|     17927|United Kingdom|\n",
      "| 492768|    20971|PINK BLUE FELT CR...|      12|18/12/2009 15:06| 1.25|     12839|United Kingdom|\n",
      "| 492781|    20971|PINK BLUE FELT CR...|      12|18/12/2009 16:57| 1.25|     14105|United Kingdom|\n",
      "| 492812|    20971|PINK BLUE FELT CR...|      12|20/12/2009 13:09| 1.25|     13871|United Kingdom|\n",
      "| 492823|    20971|PINK BLUE FELT CR...|      12|20/12/2009 14:59| 1.25|     15358|United Kingdom|\n",
      "| 492878|    20971|PINK BLUE FELT CR...|      12|21/12/2009 11:53| 1.25|     13510|United Kingdom|\n",
      "| 493372|    20971|PINK BLUE FELT CR...|       6|23/12/2009 11:21| 1.25|     15044|United Kingdom|\n",
      "| 493442|    20971|PINK BLUE FELT CR...|       1|04/01/2010 13:36| 1.25|     13821|United Kingdom|\n",
      "| 493794|    20971|PINK BLUE FELT CR...|     300|07/01/2010 10:57| 1.06|     17949|United Kingdom|\n",
      "| 493827|    20971|PINK BLUE FELT CR...|      12|07/01/2010 13:17| 1.25|     16746|United Kingdom|\n",
      "|C493836|    20971|PINK BLUE FELT CR...|     -12|07/01/2010 13:49| 1.25|     12839|United Kingdom|\n",
      "| 493877|    20971|PINK BLUE FELT CR...|      12|07/01/2010 19:34| 1.25|     14911|          EIRE|\n",
      "| 493882|    20971|PINK BLUE FELT CR...|      24|08/01/2010 10:02| 1.25|     15586|United Kingdom|\n",
      "| 494035|    20971|PINK BLUE FELT CR...|       6|11/01/2010 11:30| 1.25|     15044|United Kingdom|\n",
      "| 494359|    20971|PINK BLUE FELT CR...|       1|13/01/2010 15:24| 1.25|     17962|United Kingdom|\n",
      "| 494359|    20971|PINK BLUE FELT CR...|       1|13/01/2010 15:24| 1.25|     17962|United Kingdom|\n",
      "| 494811|    20971|PINK BLUE FELT CR...|       2|18/01/2010 16:47| 1.25|     14343|United Kingdom|\n",
      "| 494891|    20971|PINK BLUE FELT CR...|      12|19/01/2010 13:23| 1.25|     12733|           USA|\n",
      "| 495177|    20971|PINK BLUE FELT CR...|      12|21/01/2010 13:22| 1.25|     14064|United Kingdom|\n",
      "| 495206|    20971|PINK BLUE FELT CR...|      24|21/01/2010 16:44| 1.25|     16126|United Kingdom|\n",
      "| 495206|    20971|PINK BLUE FELT CR...|      12|21/01/2010 16:44| 1.25|     16126|United Kingdom|\n",
      "| 495374|    20971|PINK BLUE FELT CR...|      12|24/01/2010 13:05| 1.25|     17071|United Kingdom|\n",
      "| 495393|    20971|PINK BLUE FELT CR...|       1|24/01/2010 15:42| 1.25|     15483|United Kingdom|\n",
      "| 495393|    20971|PINK BLUE FELT CR...|       1|24/01/2010 15:42| 1.25|     15483|United Kingdom|\n",
      "| 495809|    20971|PINK BLUE FELT CR...|      12| 27/01/2010 9:44| 1.25|     14365|United Kingdom|\n",
      "| 495947|    20971|PINK BLUE FELT CR...|       3|27/01/2010 16:41| 1.25|     12484|         Spain|\n",
      "| 495960|    20971|PINK BLUE FELT CR...|      36|28/01/2010 10:06| 1.25|     14952|United Kingdom|\n",
      "| 496013|    20971|PINK BLUE FELT CR...|      12|28/01/2010 13:00| 1.25|     16366|United Kingdom|\n",
      "| 496551|    20971|PINK BLUE FELT CR...|      12|02/02/2010 13:13| 1.25|     13975|United Kingdom|\n",
      "| 496589|    20971|PINK BLUE FELT CR...|      12|02/02/2010 14:34| 1.25|     17675|United Kingdom|\n",
      "| 496642|    20971|PINK BLUE FELT CR...|      12|03/02/2010 11:50| 1.25|     15091|United Kingdom|\n",
      "| 496690|    20971|PINK BLUE FELT CR...|       2|03/02/2010 13:09| 1.25|     14399|United Kingdom|\n",
      "| 496871|    20971|PINK BLUE FELT CR...|       2|04/02/2010 13:18| 1.25|     16383|United Kingdom|\n",
      "| 496882|    20971|PINK BLUE FELT CR...|       2|04/02/2010 14:13| 1.25|     15167|United Kingdom|\n",
      "| 496959|    20971|PINK BLUE FELT CR...|     300|04/02/2010 19:24| 1.06|     17949|United Kingdom|\n",
      "| 496962|    20971|PINK BLUE FELT CR...|     300|04/02/2010 19:42| 1.06|     17949|United Kingdom|\n",
      "|C497041|    20971|PINK BLUE FELT CR...|    -300|05/02/2010 14:41| 1.06|     17949|United Kingdom|\n",
      "| 497198|    20971|PINK BLUE FELT CR...|       6|07/02/2010 11:21| 1.25|     15580|United Kingdom|\n",
      "| 497209|    20971|PINK BLUE FELT CR...|       2|07/02/2010 12:40| 1.25|     16788|United Kingdom|\n",
      "| 497214|    20971|PINK BLUE FELT CR...|       1|07/02/2010 14:10| 1.25|     14562|United Kingdom|\n",
      "| 497214|    20971|PINK BLUE FELT CR...|       2|07/02/2010 14:10| 1.25|     14562|United Kingdom|\n",
      "| 497254|    20971|PINK BLUE FELT CR...|      12|08/02/2010 12:32| 1.25|     16246|United Kingdom|\n",
      "| 497272|    20971|PINK BLUE FELT CR...|      12|08/02/2010 13:50| 1.25|     17160|United Kingdom|\n",
      "| 497360|    20971|PINK BLUE FELT CR...|      12| 09/02/2010 9:17| 1.25|     12437|        France|\n",
      "| 497691|    20971|PINK BLUE FELT CR...|       1|11/02/2010 15:29| 1.25|     14040|United Kingdom|\n",
      "| 497692|    20971|PINK BLUE FELT CR...|      12|11/02/2010 15:32| 1.25|     15807|United Kingdom|\n",
      "| 497798|    20971|PINK BLUE FELT CR...|      12|12/02/2010 13:22| 1.25|     12695|        France|\n",
      "| 497844|    20971|PINK BLUE FELT CR...|      12|12/02/2010 15:51| 1.25|     17258|United Kingdom|\n",
      "| 497948|    20971|PINK BLUE FELT CR...|      12|15/02/2010 12:05| 1.25|     13081|United Kingdom|\n",
      "| 497949|    20971|PINK BLUE FELT CR...|      12|15/02/2010 12:10| 1.25|     16327|United Kingdom|\n",
      "| 498049|    20971|PINK BLUE FELT CR...|      24|16/02/2010 11:13| 1.25|     13407|United Kingdom|\n",
      "| 498103|    20971|PINK BLUE FELT CR...|      12|16/02/2010 13:39| 1.25|     15680|United Kingdom|\n",
      "| 498217|    20971|PINK BLUE FELT CR...|      12|17/02/2010 13:39| 1.25|     17426|United Kingdom|\n",
      "| 498294|    20971|PINK BLUE FELT CR...|      12| 18/02/2010 9:00| 1.25|     14890|United Kingdom|\n",
      "| 498348|    20971|PINK BLUE FELT CR...|      12|18/02/2010 12:16| 1.25|     18172|United Kingdom|\n",
      "| 498378|    20971|PINK BLUE FELT CR...|      12|18/02/2010 14:25| 1.25|     18178|United Kingdom|\n",
      "| 498398|    20971|PINK BLUE FELT CR...|     144|18/02/2010 15:19| 1.06|     14646|   Netherlands|\n",
      "| 498400|    20971|PINK BLUE FELT CR...|       2|18/02/2010 15:33| 1.25|     15005|United Kingdom|\n",
      "| 498403|    20971|PINK BLUE FELT CR...|      12|18/02/2010 15:50| 1.25|     18153|United Kingdom|\n",
      "| 498438|    20971|PINK BLUE FELT CR...|      12| 19/02/2010 9:26| 1.25|     13333|United Kingdom|\n",
      "| 498513|    20971|PINK BLUE FELT CR...|      12|19/02/2010 12:07| 1.25|     17145|United Kingdom|\n",
      "| 498547|    20971|PINK BLUE FELT CR...|       1|19/02/2010 17:16| 1.25|     18283|United Kingdom|\n",
      "+-------+---------+--------------------+--------+----------------+-----+----------+--------------+\n",
      "only showing top 100 rows\n",
      "\n"
     ]
    },
    {
     "data": {
      "text/plain": [
       "995"
      ]
     },
     "execution_count": 20,
     "metadata": {},
     "output_type": "execute_result"
    }
   ],
   "source": [
    "# revisando las filas repetidas: \" StockCode = 20971 \"\n",
    "\n",
    "sinNulosDF.createOrReplaceTempView( \"ventas\" )\n",
    "\n",
    "filasRepetidasDF = spark.sql( \"\"\"\n",
    "    select v.Invoice, v.StockCode, v.Description, v.Quantity, v.InvoiceDate, v.Price, v.CustomerID, v.Country\n",
    "    from ventas v\n",
    "    where v.StockCode = 20971\n",
    "\"\"\" )\n",
    "\n",
    "filasRepetidasDF.printSchema()\n",
    "filasRepetidasDF.show(100)\n",
    "filasRepetidasDF.count() # 497214\n"
   ]
  },
  {
   "cell_type": "code",
   "execution_count": 22,
   "metadata": {},
   "outputs": [
    {
     "name": "stdout",
     "output_type": "stream",
     "text": [
      "root\n",
      " |-- Invoice: string (nullable = true)\n",
      " |-- StockCode: string (nullable = true)\n",
      " |-- Description: string (nullable = true)\n",
      " |-- Quantity: integer (nullable = true)\n",
      " |-- Fecha: date (nullable = true)\n",
      " |-- Price: double (nullable = true)\n",
      " |-- CustomerID: integer (nullable = true)\n",
      " |-- Country: string (nullable = true)\n",
      "\n",
      "+-------+---------+--------------------+--------+----------+-----+----------+--------------+\n",
      "|Invoice|StockCode|         Description|Quantity|     Fecha|Price|CustomerID|       Country|\n",
      "+-------+---------+--------------------+--------+----------+-----+----------+--------------+\n",
      "| 489461|    72756|  FAIRY CAKE CANDLES|      27|2009-12-01| 1.49|     17865|United Kingdom|\n",
      "| 489529|    22030|SWALLOWS GREETING...|       1|2009-12-01| 0.42|     17984|United Kingdom|\n",
      "| 489529|    21866|UNION JACK FLAG L...|       1|2009-12-01| 1.25|     17984|United Kingdom|\n",
      "| 489564|    90088|CRYSTAL KEY+LOCK ...|      24|2009-12-01| 0.85|     13526|United Kingdom|\n",
      "| 489580|    21975|PACK OF 60 DINOSA...|      24|2009-12-01| 0.55|     12921|United Kingdom|\n",
      "| 489580|    21212|PACK OF 72 RETRO ...|      24|2009-12-01| 0.55|     12921|United Kingdom|\n",
      "| 489593|    21767|FRENCH STYLE WIRE...|       1|2009-12-01|29.95|     12836|United Kingdom|\n",
      "| 489593|    21791|VINTAGE HEADS AND...|       3|2009-12-01| 1.25|     12836|United Kingdom|\n",
      "| 489654|    22165|DIAMANTE HEART SH...|       1|2009-12-01|12.75|     15750|United Kingdom|\n",
      "| 489672|    20676|     RED SPOTTY BOWL|      16|2009-12-02| 1.25|     14831|United Kingdom|\n",
      "| 489673|    22195|HEART MEASURING S...|      12|2009-12-02| 1.65|     14831|United Kingdom|\n",
      "| 489786|    21898|POTTING SHED ROSE...|       1|2009-12-02| 2.95|     17019|United Kingdom|\n",
      "| 489791|    22091|   EMPIRE TISSUE BOX|       2|2009-12-02| 1.25|     15542|United Kingdom|\n",
      "| 489814|    79321|       CHILLI LIGHTS|       3|2009-12-02| 4.95|     14669|United Kingdom|\n",
      "| 489814|    84380|SET OF 3 BUTTERFL...|      12|2009-12-02| 1.25|     14669|United Kingdom|\n",
      "| 489816|    21034|REX CASH+CARRY JU...|       1|2009-12-02| 0.95|     16086|United Kingdom|\n",
      "| 489818|    21257|VICTORIAN SEWING ...|       2|2009-12-02| 7.95|     16233|United Kingdom|\n",
      "| 489832|    22095|LADS ONLY TISSUE BOX|       1|2009-12-02| 1.25|     14549|United Kingdom|\n",
      "| 489889|    22082|RIBBON REEL STRIP...|     120|2009-12-02| 1.45|     14646|   Netherlands|\n",
      "| 489912|   85099F|JUMBO BAG STRAWBERRY|      10|2009-12-03| 1.95|     13931|United Kingdom|\n",
      "+-------+---------+--------------------+--------+----------+-----+----------+--------------+\n",
      "only showing top 20 rows\n",
      "\n"
     ]
    },
    {
     "data": {
      "text/plain": [
       "767868"
      ]
     },
     "execution_count": 22,
     "metadata": {},
     "output_type": "execute_result"
    }
   ],
   "source": [
    "# creando una vista temporal \n",
    "\n",
    "formatoDateDF.createOrReplaceTempView( \"ventas\" )\n",
    "\n",
    "data = spark.sql( \"\"\"\n",
    "    select distinct(v.Invoice), v.StockCode, v.Description, v.Quantity, v.Fecha, v.Price, v.CustomerID, v.Country\n",
    "    from ventas v\n",
    "\"\"\" )\n",
    "\n",
    "data.printSchema()\n",
    "data.show()\n",
    "data.count()"
   ]
  },
  {
   "cell_type": "code",
   "execution_count": 23,
   "metadata": {},
   "outputs": [
    {
     "name": "stdout",
     "output_type": "stream",
     "text": [
      "root\n",
      " |-- Description: string (nullable = true)\n",
      " |-- cantidad: long (nullable = false)\n",
      "\n",
      "+----------------------------------+--------+\n",
      "|Description                       |cantidad|\n",
      "+----------------------------------+--------+\n",
      "|WHITE HANGING HEART T-LIGHT HOLDER|4990    |\n",
      "|REGENCY CAKESTAND 3 TIER          |3561    |\n",
      "|ASSORTED COLOUR BIRD ORNAMENT     |2617    |\n",
      "|JUMBO BAG RED RETROSPOT           |2592    |\n",
      "|PARTY BUNTING                     |2099    |\n",
      "|LUNCH BAG  BLACK SKULL.           |2073    |\n",
      "|STRAWBERRY CERAMIC TRINKET BOX    |1999    |\n",
      "|BAKING SET 9 PIECE RETROSPOT      |1969    |\n",
      "|REX CASH+CARRY JUMBO SHOPPER      |1969    |\n",
      "|POSTAGE                           |1920    |\n",
      "|LUNCH BAG SPACEBOY DESIGN         |1889    |\n",
      "|LUNCH BAG CARS BLUE               |1835    |\n",
      "|HOME BUILDING BLOCK WORD          |1830    |\n",
      "|60 TEATIME FAIRY CAKE CASES       |1823    |\n",
      "|WOODEN FRAME ANTIQUE WHITE        |1780    |\n",
      "|HEART OF WICKER SMALL             |1754    |\n",
      "|HEART OF WICKER LARGE             |1740    |\n",
      "|JUMBO STORAGE BAG SUKI            |1696    |\n",
      "|JUMBO SHOPPER VINTAGE RED PAISLEY |1673    |\n",
      "|WOODEN PICTURE FRAME WHITE FINISH |1656    |\n",
      "+----------------------------------+--------+\n",
      "only showing top 20 rows\n",
      "\n"
     ]
    },
    {
     "data": {
      "text/plain": [
       "50"
      ]
     },
     "execution_count": 23,
     "metadata": {},
     "output_type": "execute_result"
    }
   ],
   "source": [
    "# agrupando los productos diferentes, y realizando el conteo de frecuencias\n",
    "\n",
    "productos = spark.sql( \"\"\"\n",
    "    select *\n",
    "    from (  select v.Description, count(*) as cantidad\n",
    "            from ventas v\n",
    "            group by v.Description) a\n",
    "    order by a.cantidad desc limit 50\n",
    "\"\"\" )\n",
    "\n",
    "productos.printSchema()\n",
    "productos.show( truncate=False )\n",
    "productos.count()\n"
   ]
  },
  {
   "cell_type": "code",
   "execution_count": 24,
   "metadata": {},
   "outputs": [
    {
     "name": "stdout",
     "output_type": "stream",
     "text": [
      "+-------------+\n",
      "|max(cantidad)|\n",
      "+-------------+\n",
      "|         4990|\n",
      "+-------------+\n",
      "\n",
      "+-------------+\n",
      "|min(cantidad)|\n",
      "+-------------+\n",
      "|         1175|\n",
      "+-------------+\n",
      "\n"
     ]
    }
   ],
   "source": [
    "# la venta minima y maxima de los productos\n",
    "\n",
    "productos.select(\"cantidad\").agg( {\"cantidad\": \"max\"} ).show()\n",
    "productos.select(\"cantidad\").agg( {\"cantidad\": \"min\"} ).show()\n",
    "# productos.select(\"Price\").agg( {\"Price\": \"avg\"} ).show()\n"
   ]
  },
  {
   "cell_type": "markdown",
   "metadata": {},
   "source": [
    "### Gráficos"
   ]
  },
  {
   "cell_type": "code",
   "execution_count": 25,
   "metadata": {},
   "outputs": [
    {
     "data": {
      "text/html": [
       "<div>\n",
       "<style scoped>\n",
       "    .dataframe tbody tr th:only-of-type {\n",
       "        vertical-align: middle;\n",
       "    }\n",
       "\n",
       "    .dataframe tbody tr th {\n",
       "        vertical-align: top;\n",
       "    }\n",
       "\n",
       "    .dataframe thead th {\n",
       "        text-align: right;\n",
       "    }\n",
       "</style>\n",
       "<table border=\"1\" class=\"dataframe\">\n",
       "  <thead>\n",
       "    <tr style=\"text-align: right;\">\n",
       "      <th></th>\n",
       "      <th>Description</th>\n",
       "      <th>cantidad</th>\n",
       "    </tr>\n",
       "  </thead>\n",
       "  <tbody>\n",
       "    <tr>\n",
       "      <th>0</th>\n",
       "      <td>WHITE HANGING HEART T-LIGHT HOLDER</td>\n",
       "      <td>4990</td>\n",
       "    </tr>\n",
       "    <tr>\n",
       "      <th>1</th>\n",
       "      <td>REGENCY CAKESTAND 3 TIER</td>\n",
       "      <td>3561</td>\n",
       "    </tr>\n",
       "    <tr>\n",
       "      <th>2</th>\n",
       "      <td>ASSORTED COLOUR BIRD ORNAMENT</td>\n",
       "      <td>2617</td>\n",
       "    </tr>\n",
       "    <tr>\n",
       "      <th>3</th>\n",
       "      <td>JUMBO BAG RED RETROSPOT</td>\n",
       "      <td>2592</td>\n",
       "    </tr>\n",
       "    <tr>\n",
       "      <th>4</th>\n",
       "      <td>PARTY BUNTING</td>\n",
       "      <td>2099</td>\n",
       "    </tr>\n",
       "  </tbody>\n",
       "</table>\n",
       "</div>"
      ],
      "text/plain": [
       "                          Description  cantidad\n",
       "0  WHITE HANGING HEART T-LIGHT HOLDER      4990\n",
       "1            REGENCY CAKESTAND 3 TIER      3561\n",
       "2       ASSORTED COLOUR BIRD ORNAMENT      2617\n",
       "3             JUMBO BAG RED RETROSPOT      2592\n",
       "4                       PARTY BUNTING      2099"
      ]
     },
     "execution_count": 25,
     "metadata": {},
     "output_type": "execute_result"
    }
   ],
   "source": [
    "import pandas as pd\n",
    "import matplotlib.pyplot as plt\n",
    "# import seaborn as sns\n",
    "\n",
    "dataPD = productos.toPandas()\n",
    "dataPD.head()"
   ]
  },
  {
   "cell_type": "code",
   "execution_count": 26,
   "metadata": {},
   "outputs": [
    {
     "data": {
      "image/png": "[encoded data removed]",
      "text/plain": [
       "<Figure size 3600x1440 with 1 Axes>"
      ]
     },
     "metadata": {
      "needs_background": "light"
     },
     "output_type": "display_data"
    }
   ],
   "source": [
    "\n",
    "fig = plt.figure( figsize=(50,20) )\n",
    "plt.subplot2grid( (2,3), (0,0) )\n",
    "\n",
    "plt.title( 'Cantidad de Ventas por Producto' )\n",
    "plt.xlabel( 'Productos' )\n",
    "plt.ylabel( 'Ventas' )\n",
    "\n",
    "# creamos la grafica de barras utilizando 'Productos' como eje 'x' y 'Cantidad vendida' como eje 'y'.\n",
    "plt.bar( dataPD.Description, dataPD.cantidad )\n",
    "\n",
    "plt.xticks(rotation='vertical')\n",
    "\n",
    "# finalmente mostramos la grafica con el metodo show()\n",
    "plt.show()\n"
   ]
  },
  {
   "cell_type": "markdown",
   "metadata": {},
   "source": [
    "### Preparación de los datos"
   ]
  },
  {
   "cell_type": "code",
   "execution_count": 27,
   "metadata": {},
   "outputs": [
    {
     "name": "stdout",
     "output_type": "stream",
     "text": [
      "+---------+\n",
      "|StockCode|\n",
      "+---------+\n",
      "|21259    |\n",
      "|21248    |\n",
      "|21894    |\n",
      "|21249    |\n",
      "|21452    |\n",
      "|22596    |\n",
      "|22121    |\n",
      "|22728    |\n",
      "|21889    |\n",
      "|22254    |\n",
      "|23318    |\n",
      "|23459    |\n",
      "|20868    |\n",
      "|90143    |\n",
      "|21331    |\n",
      "|84899F   |\n",
      "|90210B   |\n",
      "|84881    |\n",
      "|90026D   |\n",
      "|90022    |\n",
      "+---------+\n",
      "only showing top 20 rows\n",
      "\n"
     ]
    },
    {
     "data": {
      "text/plain": [
       "4644"
      ]
     },
     "execution_count": 27,
     "metadata": {},
     "output_type": "execute_result"
    }
   ],
   "source": [
    "# mostrar los valores distintos de la columna \"Description\"\n",
    "\n",
    "ventasDF = filasNoRepetidasDF\n",
    "\n",
    "ventasDF.select(\"StockCode\").distinct().show( truncate=False )\n",
    "ventasDF.select(\"StockCode\").distinct().count()\n"
   ]
  },
  {
   "cell_type": "code",
   "execution_count": 28,
   "metadata": {},
   "outputs": [
    {
     "name": "stdout",
     "output_type": "stream",
     "text": [
      "+---------+--------+\n",
      "|StockCode|cantidad|\n",
      "+---------+--------+\n",
      "|85123A   |4826    |\n",
      "|22423    |3526    |\n",
      "|85099B   |3214    |\n",
      "|20725    |2590    |\n",
      "|84879    |2559    |\n",
      "|21212    |2446    |\n",
      "|47566    |2068    |\n",
      "|21232    |2002    |\n",
      "|20727    |1984    |\n",
      "|22383    |1971    |\n",
      "|22138    |1945    |\n",
      "|POST     |1918    |\n",
      "|22382    |1892    |\n",
      "|22384    |1832    |\n",
      "|20914    |1815    |\n",
      "|22139    |1798    |\n",
      "|20728    |1790    |\n",
      "|21754    |1773    |\n",
      "|22197    |1762    |\n",
      "|21034    |1753    |\n",
      "+---------+--------+\n",
      "only showing top 20 rows\n",
      "\n"
     ]
    },
    {
     "data": {
      "text/plain": [
       "4644"
      ]
     },
     "execution_count": 28,
     "metadata": {},
     "output_type": "execute_result"
    }
   ],
   "source": [
    "# agrupación por producto a la vez haciendo un conteo, metodo 1: vista temporal\n",
    "\n",
    "ventasDF.createOrReplaceTempView( \"miVenta\" )\n",
    "\n",
    "df = spark.sql( \"\"\"\n",
    "    select *\n",
    "    from (  select v.StockCode, count(*) as cantidad\n",
    "            from miVenta v\n",
    "            group by v.StockCode) a\n",
    "    order by a.cantidad desc\n",
    "\"\"\" )\n",
    "df.show( truncate=False )\n",
    "df.count()\n"
   ]
  },
  {
   "cell_type": "code",
   "execution_count": 29,
   "metadata": {},
   "outputs": [
    {
     "name": "stdout",
     "output_type": "stream",
     "text": [
      "+---------+-----+\n",
      "|StockCode|count|\n",
      "+---------+-----+\n",
      "|21259    |543  |\n",
      "|21248    |127  |\n",
      "|21894    |147  |\n",
      "|21249    |188  |\n",
      "|21452    |329  |\n",
      "|22596    |410  |\n",
      "|22121    |358  |\n",
      "|22728    |756  |\n",
      "|21889    |847  |\n",
      "|22254    |114  |\n",
      "|23318    |336  |\n",
      "|23459    |21   |\n",
      "|20868    |44   |\n",
      "|90143    |20   |\n",
      "|21331    |24   |\n",
      "|84899F   |23   |\n",
      "|90210B   |14   |\n",
      "|84881    |20   |\n",
      "|90026D   |8    |\n",
      "|90022    |5    |\n",
      "+---------+-----+\n",
      "only showing top 20 rows\n",
      "\n"
     ]
    },
    {
     "data": {
      "text/plain": [
       "4644"
      ]
     },
     "execution_count": 29,
     "metadata": {},
     "output_type": "execute_result"
    }
   ],
   "source": [
    "# agrupación por producto a la vez haciendo un conteo, metodo 2: funcion sql agregado\n",
    "\n",
    "df = ventasDF.groupBy(\"StockCode\").count()#.orderBy(\"count\")\n",
    "df.show( truncate=False )\n",
    "df.count()\n",
    "# df.orderBy(\"count\").show()\n"
   ]
  },
  {
   "cell_type": "markdown",
   "metadata": {},
   "source": [
    "\n",
    "### Preparación de los datos para el análisis del algoritmo APRIORI (Reglas de Asociación)\n"
   ]
  },
  {
   "cell_type": "code",
   "execution_count": 30,
   "metadata": {},
   "outputs": [],
   "source": [
    "# convirtiendo la columna \"Description\" del tipo de dato String a \"Array de String's\"\n",
    "\n",
    "import pyspark.sql.functions as F\n",
    "import pyspark.sql.types as T\n"
   ]
  },
  {
   "cell_type": "markdown",
   "metadata": {},
   "source": [
    "### Funciones UDF"
   ]
  },
  {
   "cell_type": "code",
   "execution_count": 31,
   "metadata": {},
   "outputs": [],
   "source": [
    "# funcion UDF: para convertir un String a Array\n",
    "\n",
    "def String_to_Array( x ):\n",
    "    \n",
    "    res = []\n",
    "    # res.append( x )\n",
    "    for x_ in x:\n",
    "        res.append( x_.lower() )\n",
    "    return res\n",
    "\n",
    "convert_to_Array = F.udf( String_to_Array, T.ArrayType( T.StringType() ) )\n"
   ]
  },
  {
   "cell_type": "code",
   "execution_count": 32,
   "metadata": {},
   "outputs": [
    {
     "name": "stdout",
     "output_type": "stream",
     "text": [
      "root\n",
      " |-- Invoice: string (nullable = true)\n",
      " |-- StockCode: array (nullable = true)\n",
      " |    |-- element: string (containsNull = true)\n",
      "\n",
      "+-------+---------+\n",
      "|Invoice|StockCode|\n",
      "+-------+---------+\n",
      "|489461 |[82582]  |\n",
      "|489529 |[20773]  |\n",
      "|489529 |[21122]  |\n",
      "|489536 |[22189]  |\n",
      "|489536 |[48179]  |\n",
      "|489557 |[16169d] |\n",
      "|489561 |[21816]  |\n",
      "|489567 |[48195]  |\n",
      "|489571 |[22189]  |\n",
      "|489572 |[85028s] |\n",
      "|489598 |[20982]  |\n",
      "|489599 |[21239]  |\n",
      "|489617 |[46000m] |\n",
      "|489637 |[21796]  |\n",
      "|489637 |[48111]  |\n",
      "|489654 |[70007]  |\n",
      "|489683 |[20913]  |\n",
      "|489766 |[21244]  |\n",
      "|489787 |[21990]  |\n",
      "|489789 |[15056bl]|\n",
      "+-------+---------+\n",
      "only showing top 20 rows\n",
      "\n"
     ]
    },
    {
     "data": {
      "text/plain": [
       "757910"
      ]
     },
     "execution_count": 32,
     "metadata": {},
     "output_type": "execute_result"
    }
   ],
   "source": [
    "# ejecutando la funcion UDF\n",
    "\n",
    "elNuevoDF = ventasDF.withColumn( \"StockCode\", convert_to_Array( F.array( F.col(\"StockCode\") ) ) ).select( \"Invoice\", \"StockCode\" )\n",
    "elNuevoDF.printSchema()\n",
    "elNuevoDF.show( truncate=False )\n",
    "elNuevoDF.count() # 366265\n"
   ]
  },
  {
   "cell_type": "code",
   "execution_count": 33,
   "metadata": {
    "scrolled": true
   },
   "outputs": [
    {
     "name": "stdout",
     "output_type": "stream",
     "text": [
      "root\n",
      " |-- Invoice: string (nullable = true)\n",
      " |-- StockCode: array (nullable = true)\n",
      " |    |-- element: string (containsNull = true)\n",
      "\n",
      "+-------+------------------------------------------------------------------------------------------------------------------------------------------------------------------------------------------------------------------------------------------------------------------------------------------------------------------------------------------------------------------------------------------------------------------------------------------------------------------------------------------------------------------------------------------------------------------------------------------------------------------------------------------+\n",
      "|Invoice|StockCode                                                                                                                                                                                                                                                                                                                                                                                                                                                                                                                                                                                                                                 |\n",
      "+-------+------------------------------------------------------------------------------------------------------------------------------------------------------------------------------------------------------------------------------------------------------------------------------------------------------------------------------------------------------------------------------------------------------------------------------------------------------------------------------------------------------------------------------------------------------------------------------------------------------------------------------------------+\n",
      "|498929 |[21485, 21484, 21624, 84970s, 22287, 21622, 22128, 22290, 21410, 47586a, 21717, 46000m, 46000u]                                                                                                                                                                                                                                                                                                                                                                                                                                                                                                                                           |\n",
      "|499768 |[84536a, 21034, 21294, 22075, 85049a, 21488, 47566, 20935, 85049f, 85049h, 79000, 85175, 21668, 22114, 20755, 84706f, 84927a, 17108d, 21076, 85200]                                                                                                                                                                                                                                                                                                                                                                                                                                                                                       |\n",
      "|501651 |[22343, 21899, 22346, 22411, 85194s, 21985, 22099, 22083, 21902, 21175, 22345, 20723, 21584, 22197, 22488, 85014c, 21907, 22582, 22584, 22347, 22344, 21181, 22487]                                                                                                                                                                                                                                                                                                                                                                                                                                                                       |\n",
      "|503877 |[20702, 22528, 48194, 22189, 22523, 22520, 22521, 21929, 22525, 22165, 22423, 22139, 20685, 22181, 22074, 20971, 47591c, 21564, 84791, 22174, 22386, 22188, 48129, 22385, 85049f, 82486, 47591d, 21715, 22522, 21931, 21928, 84555a]                                                                                                                                                                                                                                                                                                                                                                                                      |\n",
      "|508652 |[22644, 85049e, 22147, 47568, 20702, 20703, 21231, 22076, 22127, 22285, 22367, 21533, 85185d, 85049a, 85185c, 21539, 47559b, 85185b, 22284, 84192, 47599b, 21531, 47599a, 22227, 21527, 37500, 77081, 22057, 22458, 22433, 22128, 22059, 37502, 37448, 85049h, 22459, 22073, 22150, 21745, 22488, 85129a, 47567b, 84991, 22231, 22067, 22149, 22646, 22233, 22431, 22156, 22469, 22470, 37447, 21232, 22645]                                                                                                                                                                                                                              |\n",
      "|514134 |[21171, 22412, 82578, 21904, 22118, 82494l, 82484, 22564, 21172, 82581, 21166, 82580, 22413, 85152, 21907, 21903, 21363, 21174, 21165]                                                                                                                                                                                                                                                                                                                                                                                                                                                                                                    |\n",
      "|515595 |[82486, 47599b, 20727, 21669, 21508, 22026, 82494l, 84947, 21955, 84879, 15056n, 84247g, 22174, 21509, 82483, 20725, 21519, 20724, 22528, 22090, 21755, 22352, 84946, 22151, 82551, 20719, 22077, 48187, 22492, 21518, 22384, 20685, 15036, 22439, 22178, 21868, 22460, 22152, 20723, 20726, 21870, 22353, 22036, 82482, 22033, 22382, 22348, 21754, 82552, 84836, 22027, 22030]                                                                                                                                                                                                                                                          |\n",
      "|522463 |[22158, 21383, 85049g, 21454, 85049c, 85197, 20718, 22077, 22083, 85049f, 22246, 22251, 85194s]                                                                                                                                                                                                                                                                                                                                                                                                                                                                                                                                           |\n",
      "|522797 |[21788, 21677, 51014a, 21707, 21709, 21967, 21711, 21789, 21679, 22356, 21706, 21986, 22133]                                                                                                                                                                                                                                                                                                                                                                                                                                                                                                                                              |\n",
      "|524201 |[22554, 22659, 22571, 21017, 22951, 21431, 22737, 22435, 22949, 22738, 22818, 22139, 22044, 22034, 22551, 22630, 22959, 22631]                                                                                                                                                                                                                                                                                                                                                                                                                                                                                                            |\n",
      "|528166 |[22457, 84929, 22198, 21777, 22851, 21781, 22839, 21411, 84313b, 22862, 22138, 47567b, 85184c, 22844, 21733, 22409, 22215, 22473, 21042, 22665, 22847, 22132, 47591d, 21410, 85064, 21122, 22841, 21124, 22629, 22197, 21156]                                                                                                                                                                                                                                                                                                                                                                                                             |\n",
      "|528356 |[21901, 22553, 21232, 22530, 35095b, 22502, 22364, 15044c, 82551, 22027, 22884, 22029, 82567, 22865, 21231, 16236, 15044d, 22529, 21478, 22555, 22885, 21661, 22531, 22556, 22534, 22366, 47559b, 22411, 22697, 82581, 22551, 16012, 82583, 22064, 22834, 16238]                                                                                                                                                                                                                                                                                                                                                                          |\n",
      "|565129 |[22980, 22385, 23207, 22355, 22384, 22907, 82582, 21993, 20727, 20977, 82600, 23236, 22666, 20979, 21930, 23196, 23203, 82484, 84536b, 85099c, 82567, 20713, 21411, 20974, 84836, 84535b, 22993, 85099b, 22553, 22551, 20725, 23118, 22508, 21931, 22417, 21430, 21908, 22556, 23208, 22613, 22908, 82482, 21523, 84536a, 20718, 21212, 21213, 23206, 23243, 22379, 21174, 85099f, 22555, 22554, 22383, 23191, 20724, 23201, 10133, 21990, 22411, 82494l, 22667, 21975, 23307, 82486, 21080, 22382, 23209, 20685, 48187, 85183b, 23197, 23200, 23092, 23202, 23199, 85123a, 22386, 23298, 37413, 20723, 22766, 21928, 22456, 82483, 22896]|\n",
      "|570791 |[22944, 84944, 85099b, 21804, 23333, 23090, 22596, 23263, 20969, 22306, 21588, 23182, 23500, 23247, 22942, 22141, 22809, 22672, 23275, 22940, 23344, 22670, 22203, 35471d, 84508b, 23264, 23108, 22199, 23334, 82583, 22144, 21172, 20668, 23374, 21465, 23065, 23343]                                                                                                                                                                                                                                                                                                                                                                    |\n",
      "|581352 |[22723, 22675, 23328, 23019, 23320, 22673, 82494l, 22905, 84032b, 23323, 22185, 23533, 23569, 23578, 22171, 22721, 23106, 23360, 85034b, 22118, 23151, 35004b, 84978, 85231b, 23455, 23201, 21314, 22138, 23576, 21441, 21034, 72811, 22562, 23571, 22551, 23457, 22481, 21442, 22564, 23143]                                                                                                                                                                                                                                                                                                                                             |\n",
      "|489573 |[22071, 22295, 22042, 22294, 22113, 72008, 22138, 84997c, 84946, 21326, 21754, 85147, 84510a, 21313, 18097c, 18096c, 21888, 22139, 21955, 84997b, 84754, 84340, 21912, 22070, 84949, 84247c, 22186, 22034, 84509a, 21868, 21625, 21587]                                                                                                                                                                                                                                                                                                                                                                                                   |\n",
      "|490834 |[21154, 37502, 84569c, 22075, 47503g, 22156, 82486, 37446, 84837, 85049e, 21124, 21156, 84569a, 84482, 47591c, 21155, 84569d, 72756, 47591d, 82494l, 85049f, 84569b, 37447, 22056, 21737, 22078, 85178, 85176, 21042, 22079, 21232, 84682, 22082, 84615, 37494a, 21110, 47568, 21122, 21109, 82482]                                                                                                                                                                                                                                                                                                                                       |\n",
      "|492168 |[21622, 21158, 21159, 21673, 48194, 21671, 21272, 21524, 84406b, 21733, 21732, 22215, 48195, 22212, 84971s, 21624, 21161, 85123a, 48187, 21523, 21248, 21160, 20734, 21955, 21768, 48173c, 85067]                                                                                                                                                                                                                                                                                                                                                                                                                                         |\n",
      "|493183 |[20750, 84997a, 21242, 84997c, 22138, 21240, 21238, 21245, 20674, 20675, 21239, 84997d, 20677, 22352, 21244, 21217, 21241, post, 84997b, 20676, 21243]                                                                                                                                                                                                                                                                                                                                                                                                                                                                                    |\n",
      "|498555 |[21624, 20615, 21590, 20616, 20661, 21864, 21866, 20663, 21867, 21865, 20665, 21638, 35001b, 21648, 84270, 21875, 35001w, 85221]                                                                                                                                                                                                                                                                                                                                                                                                                                                                                                          |\n",
      "+-------+------------------------------------------------------------------------------------------------------------------------------------------------------------------------------------------------------------------------------------------------------------------------------------------------------------------------------------------------------------------------------------------------------------------------------------------------------------------------------------------------------------------------------------------------------------------------------------------------------------------------------------------+\n",
      "only showing top 20 rows\n",
      "\n"
     ]
    }
   ],
   "source": [
    "# agrupando por CODIGO DE FACTURA, para tener una LISTA de productos\n",
    "\n",
    "ventasDF = elNuevoDF.rdd.map(lambda r: (r.Invoice, r.StockCode)).reduceByKey(lambda x,y: x + y).toDF(['Invoice','StockCode'])\n",
    "ventasDF.printSchema()\n",
    "ventasDF.show(truncate=False)\n"
   ]
  },
  {
   "cell_type": "code",
   "execution_count": 34,
   "metadata": {},
   "outputs": [
    {
     "data": {
      "text/html": [
       "<div>\n",
       "<style scoped>\n",
       "    .dataframe tbody tr th:only-of-type {\n",
       "        vertical-align: middle;\n",
       "    }\n",
       "\n",
       "    .dataframe tbody tr th {\n",
       "        vertical-align: top;\n",
       "    }\n",
       "\n",
       "    .dataframe thead th {\n",
       "        text-align: right;\n",
       "    }\n",
       "</style>\n",
       "<table border=\"1\" class=\"dataframe\">\n",
       "  <thead>\n",
       "    <tr style=\"text-align: right;\">\n",
       "      <th></th>\n",
       "      <th>Invoice</th>\n",
       "      <th>StockCode</th>\n",
       "    </tr>\n",
       "  </thead>\n",
       "  <tbody>\n",
       "    <tr>\n",
       "      <th>0</th>\n",
       "      <td>498929</td>\n",
       "      <td>[21485, 21484, 21624, 84970s, 22287, 21622, 22...</td>\n",
       "    </tr>\n",
       "    <tr>\n",
       "      <th>1</th>\n",
       "      <td>499768</td>\n",
       "      <td>[84536a, 21034, 21294, 22075, 85049a, 21488, 4...</td>\n",
       "    </tr>\n",
       "    <tr>\n",
       "      <th>2</th>\n",
       "      <td>501651</td>\n",
       "      <td>[22343, 21899, 22346, 22411, 85194s, 21985, 22...</td>\n",
       "    </tr>\n",
       "    <tr>\n",
       "      <th>3</th>\n",
       "      <td>503877</td>\n",
       "      <td>[20702, 22528, 48194, 22189, 22523, 22520, 225...</td>\n",
       "    </tr>\n",
       "    <tr>\n",
       "      <th>4</th>\n",
       "      <td>508652</td>\n",
       "      <td>[22644, 85049e, 22147, 47568, 20702, 20703, 21...</td>\n",
       "    </tr>\n",
       "    <tr>\n",
       "      <th>...</th>\n",
       "      <td>...</td>\n",
       "      <td>...</td>\n",
       "    </tr>\n",
       "    <tr>\n",
       "      <th>43268</th>\n",
       "      <td>508631</td>\n",
       "      <td>[22409, 21429]</td>\n",
       "    </tr>\n",
       "    <tr>\n",
       "      <th>43269</th>\n",
       "      <td>515036</td>\n",
       "      <td>[84536a, 20973]</td>\n",
       "    </tr>\n",
       "    <tr>\n",
       "      <th>43270</th>\n",
       "      <td>C531428</td>\n",
       "      <td>[22727]</td>\n",
       "    </tr>\n",
       "    <tr>\n",
       "      <th>43271</th>\n",
       "      <td>C575585</td>\n",
       "      <td>[21259]</td>\n",
       "    </tr>\n",
       "    <tr>\n",
       "      <th>43272</th>\n",
       "      <td>516022</td>\n",
       "      <td>[48103]</td>\n",
       "    </tr>\n",
       "  </tbody>\n",
       "</table>\n",
       "<p>43273 rows × 2 columns</p>\n",
       "</div>"
      ],
      "text/plain": [
       "       Invoice                                          StockCode\n",
       "0       498929  [21485, 21484, 21624, 84970s, 22287, 21622, 22...\n",
       "1       499768  [84536a, 21034, 21294, 22075, 85049a, 21488, 4...\n",
       "2       501651  [22343, 21899, 22346, 22411, 85194s, 21985, 22...\n",
       "3       503877  [20702, 22528, 48194, 22189, 22523, 22520, 225...\n",
       "4       508652  [22644, 85049e, 22147, 47568, 20702, 20703, 21...\n",
       "...        ...                                                ...\n",
       "43268   508631                                     [22409, 21429]\n",
       "43269   515036                                    [84536a, 20973]\n",
       "43270  C531428                                            [22727]\n",
       "43271  C575585                                            [21259]\n",
       "43272   516022                                            [48103]\n",
       "\n",
       "[43273 rows x 2 columns]"
      ]
     },
     "execution_count": 34,
     "metadata": {},
     "output_type": "execute_result"
    }
   ],
   "source": [
    "# visualizacion en formato \"pandas\"\n",
    "\n",
    "ventasDF.toPandas()\n"
   ]
  },
  {
   "cell_type": "code",
   "execution_count": 35,
   "metadata": {},
   "outputs": [
    {
     "name": "stdout",
     "output_type": "stream",
     "text": [
      "root\n",
      " |-- Invoice: string (nullable = true)\n",
      " |-- StockCode: array (nullable = true)\n",
      " |    |-- element: string (containsNull = true)\n",
      "\n",
      "+-------+--------------------+\n",
      "|Invoice|           StockCode|\n",
      "+-------+--------------------+\n",
      "| 498929|[21485, 21484, 21...|\n",
      "| 499768|[84536a, 21034, 2...|\n",
      "| 501651|[22343, 21899, 22...|\n",
      "| 503877|[20702, 22528, 48...|\n",
      "| 508652|[22644, 85049e, 2...|\n",
      "| 514134|[21171, 22412, 82...|\n",
      "| 515595|[82486, 47599b, 2...|\n",
      "| 522463|[22158, 21383, 85...|\n",
      "| 522797|[21788, 21677, 51...|\n",
      "| 524201|[22554, 22659, 22...|\n",
      "| 528166|[22457, 84929, 22...|\n",
      "| 528356|[21901, 22553, 21...|\n",
      "| 565129|[22980, 22385, 23...|\n",
      "| 570791|[22944, 84944, 85...|\n",
      "| 581352|[22723, 22675, 23...|\n",
      "| 489573|[22071, 22295, 22...|\n",
      "| 490834|[21154, 37502, 84...|\n",
      "| 492168|[21622, 21158, 21...|\n",
      "| 493183|[20750, 84997a, 2...|\n",
      "| 498555|[21624, 20615, 21...|\n",
      "+-------+--------------------+\n",
      "only showing top 20 rows\n",
      "\n"
     ]
    }
   ],
   "source": [
    "# haciendo pruebas con mini dataset: de distintas cantidades\n",
    "\n",
    "ventasDF_1 = ventasDF\n",
    "\n",
    "ventasDF.createOrReplaceTempView(\"miniVenta\")\n",
    "\n",
    "miniGrupo = spark.sql( \"\"\"\n",
    "    select v.Invoice, v.StockCode\n",
    "    from miniVenta v\n",
    "\"\"\" ) # limit 10000\n",
    "\n",
    "miniGrupo.printSchema()\n",
    "miniGrupo.show()\n",
    "miniGrupo.count()\n",
    "\n",
    "ventasDF_1 = miniGrupo\n"
   ]
  },
  {
   "cell_type": "markdown",
   "metadata": {},
   "source": [
    "### 3. REGLAS DE ASOCIACIÓN:\n"
   ]
  },
  {
   "cell_type": "code",
   "execution_count": 36,
   "metadata": {},
   "outputs": [],
   "source": [
    "# importando el algoritmo de Reglas de Asociación: crecimiento de patrones frecuentes\n",
    "\n",
    "from pyspark.ml.fpm import FPGrowth\n"
   ]
  },
  {
   "cell_type": "code",
   "execution_count": 37,
   "metadata": {},
   "outputs": [
    {
     "name": "stdout",
     "output_type": "stream",
     "text": [
      "root\n",
      " |-- Invoice: string (nullable = true)\n",
      " |-- StockCode: array (nullable = true)\n",
      " |    |-- element: string (containsNull = true)\n",
      "\n",
      "+-------+--------------------+\n",
      "|Invoice|           StockCode|\n",
      "+-------+--------------------+\n",
      "| 498929|[21485, 21484, 21...|\n",
      "| 499768|[84536a, 21034, 2...|\n",
      "| 501651|[22343, 21899, 22...|\n",
      "| 503877|[20702, 22528, 48...|\n",
      "| 508652|[22644, 85049e, 2...|\n",
      "| 514134|[21171, 22412, 82...|\n",
      "| 515595|[82486, 47599b, 2...|\n",
      "| 522463|[22158, 21383, 85...|\n",
      "| 522797|[21788, 21677, 51...|\n",
      "| 524201|[22554, 22659, 22...|\n",
      "| 528166|[22457, 84929, 22...|\n",
      "| 528356|[21901, 22553, 21...|\n",
      "| 565129|[22980, 22385, 23...|\n",
      "| 570791|[22944, 84944, 85...|\n",
      "| 581352|[22723, 22675, 23...|\n",
      "| 489573|[22071, 22295, 22...|\n",
      "| 490834|[21154, 37502, 84...|\n",
      "| 492168|[21622, 21158, 21...|\n",
      "| 493183|[20750, 84997a, 2...|\n",
      "| 498555|[21624, 20615, 21...|\n",
      "+-------+--------------------+\n",
      "only showing top 20 rows\n",
      "\n"
     ]
    },
    {
     "data": {
      "text/plain": [
       "43273"
      ]
     },
     "execution_count": 37,
     "metadata": {},
     "output_type": "execute_result"
    }
   ],
   "source": [
    "ventasDF_1.printSchema()\n",
    "ventasDF_1.show() #ventasDF_1.show(truncate=False)\n",
    "ventasDF_1.count()\n"
   ]
  },
  {
   "cell_type": "code",
   "execution_count": 38,
   "metadata": {
    "scrolled": false
   },
   "outputs": [],
   "source": [
    "# entrenando al modelo\n",
    "\n",
    "fpGrowth = FPGrowth( itemsCol=\"StockCode\", minSupport=0.01, minConfidence=0.1 ) # 0.5  0.6 ---  0.4  0.6  ---  0.2   0.7\n",
    "modelo = fpGrowth.fit( ventasDF_1 )\n"
   ]
  },
  {
   "cell_type": "code",
   "execution_count": 39,
   "metadata": {},
   "outputs": [
    {
     "name": "stdout",
     "output_type": "stream",
     "text": [
      "+----------------+----+\n",
      "|items           |freq|\n",
      "+----------------+----+\n",
      "|[48185]         |724 |\n",
      "|[22729]         |486 |\n",
      "|[85123a]        |4826|\n",
      "|[22423]         |3526|\n",
      "|[22423, 85123a] |483 |\n",
      "|[21122]         |722 |\n",
      "|[22634]         |485 |\n",
      "|[85099b]        |3214|\n",
      "|[85099b, 85123a]|574 |\n",
      "|[20676]         |714 |\n",
      "|[22623]         |484 |\n",
      "|[22055]         |483 |\n",
      "|[20725]         |2590|\n",
      "|[20725, 85099b] |826 |\n",
      "|[20725, 85123a] |512 |\n",
      "|[20749]         |710 |\n",
      "|[84879]         |2559|\n",
      "|[84879, 85123a] |627 |\n",
      "|[21985]         |710 |\n",
      "|[20973]         |483 |\n",
      "+----------------+----+\n",
      "only showing top 20 rows\n",
      "\n"
     ]
    }
   ],
   "source": [
    "# muestra conjuntos de elementos frecuentes\n",
    "\n",
    "modelo.freqItemsets.show(truncate=False)\n"
   ]
  },
  {
   "cell_type": "code",
   "execution_count": 40,
   "metadata": {},
   "outputs": [
    {
     "name": "stdout",
     "output_type": "stream",
     "text": [
      "+---------------+----------+-------------------+------------------+\n",
      "|     antecedent|consequent|         confidence|              lift|\n",
      "+---------------+----------+-------------------+------------------+\n",
      "|        [22554]|   [22556]|0.44197292069632493|18.162862485557522|\n",
      "|        [22554]|   [22551]| 0.5077369439071566|19.722891179258877|\n",
      "| [20726, 22382]|   [20725]| 0.6307053941908713|10.537650394911806|\n",
      "|[22386, 85099b]|   [21931]| 0.4172248803827751|10.798189144021428|\n",
      "|[22386, 85099b]|  [85099f]|0.45550239234449763|13.019124850675988|\n",
      "|        [21977]|   [21212]|  0.536222509702458| 9.486490867683756|\n",
      "|        [21977]|   [84991]|0.46959896507115134|11.678710353749386|\n",
      "|        [21977]|   [84992]| 0.2943078913324709|11.113076249240848|\n",
      "|        [21977]|   [21975]| 0.3078913324708926| 11.99224269128077|\n",
      "|        [22699]|   [22423]| 0.5331491712707183|  6.54309815326086|\n",
      "|        [22699]|   [22697]| 0.6832412523020258| 30.60652040462274|\n",
      "|        [22699]|   [22698]|  0.574585635359116| 31.11895394104509|\n",
      "|        [22866]|   [22865]|  0.559539052496799|26.695626701977933|\n",
      "|        [20723]|   [22355]| 0.4462474645030426| 16.30951565155419|\n",
      "|        [20723]|   [20724]|  0.592292089249493|17.352915083340086|\n",
      "|        [20723]|   [22356]| 0.4543610547667343|17.809389422935592|\n",
      "| [20726, 22384]|   [20725]| 0.7333333333333333|12.252329472329471|\n",
      "|        [22386]|  [85099b]|  0.599197247706422| 8.067536558805228|\n",
      "|        [22386]|   [22384]|0.29873853211009177| 7.056393286026202|\n",
      "|        [22386]|   [20725]|0.26204128440366975| 4.378112934362934|\n",
      "+---------------+----------+-------------------+------------------+\n",
      "only showing top 20 rows\n",
      "\n"
     ]
    }
   ],
   "source": [
    "# muestra las reglas de asociación generadas\n",
    "\n",
    "modelo.associationRules.show()\n"
   ]
  },
  {
   "cell_type": "code",
   "execution_count": 41,
   "metadata": {},
   "outputs": [
    {
     "name": "stdout",
     "output_type": "stream",
     "text": [
      "root\n",
      " |-- StockCode: array (nullable = true)\n",
      " |    |-- element: string (containsNull = true)\n",
      "\n",
      "+------------------------------+\n",
      "|StockCode                     |\n",
      "+------------------------------+\n",
      "|[85123A, 22423, 85099B, 20725]|\n",
      "+------------------------------+\n",
      "\n"
     ]
    }
   ],
   "source": [
    "# creando una lista de productos, para la prueba de las prediciones\n",
    "\n",
    "nuevosDatos = spark.createDataFrame( [ ( [ \"85123A\", \"22423\", \"85099B\", \"20725\" ], ) ], [ \"StockCode\" ] )\n",
    "nuevosDatos.printSchema()\n",
    "nuevosDatos.show( truncate=False )\n",
    "\n",
    "# [ \"85123a\", \"22423\", \"85099b\", \"20725\" ]\n"
   ]
  },
  {
   "cell_type": "code",
   "execution_count": 42,
   "metadata": {},
   "outputs": [
    {
     "data": {
      "text/plain": [
       "['20724',\n",
       " '20726',\n",
       " '20727',\n",
       " '20728',\n",
       " '21212',\n",
       " '21931',\n",
       " '22382',\n",
       " '22383',\n",
       " '22384',\n",
       " '22386',\n",
       " '22697',\n",
       " '22698',\n",
       " '22699',\n",
       " '85099b',\n",
       " '85123a']"
      ]
     },
     "execution_count": 42,
     "metadata": {},
     "output_type": "execute_result"
    }
   ],
   "source": [
    "# mostrando las primeras predicciones, dado una lista de productos\n",
    "\n",
    "sorted( modelo.transform( nuevosDatos ).first().prediction ) #['x', 'y', 'z']\n"
   ]
  },
  {
   "cell_type": "code",
   "execution_count": 43,
   "metadata": {},
   "outputs": [
    {
     "name": "stdout",
     "output_type": "stream",
     "text": [
      "+---------+--------------------------------+\n",
      "|StockCode|Description                     |\n",
      "+---------+--------------------------------+\n",
      "|21931    |JUMBO STORAGE BAG SUKI          |\n",
      "|22386    |JUMBO BAG PINK POLKADOT         |\n",
      "|22384    |LUNCH BAG PINK POLKADOTS        |\n",
      "|22386    |JUMBO BAG PINK WITH WHITE SPOTS |\n",
      "|22697    |TEACUP AND SAUCER REGENCY GREEN |\n",
      "|21212    |PACK OF 72 RETRO SPOT CAKE CASES|\n",
      "|20724    |RED SPOTTY CHARLOTTE BAG        |\n",
      "|22383    |LUNCH BAG SUKI  DESIGN          |\n",
      "|20727    |LUNCH BAG  BLACK SKULL.         |\n",
      "|22382    |LUNCH BAG SPACEBOY DESIGN       |\n",
      "|22383    |LUNCHBAG SUKI  DESIGN           |\n",
      "|22384    |LUNCH BAG PINK POLKADOT         |\n",
      "|22384    |LUNCH BAG PINK RETROSPOT        |\n",
      "|21212    |PACK OF 72 RETROSPOT CAKE CASES |\n",
      "|22697    |GREEN REGENCY TEACUP AND SAUCER |\n",
      "|20724    |RED RETROSPOT CHARLOTTE BAG     |\n",
      "|20726    |LUNCH BAG WOODLAND              |\n",
      "|22698    |PINK REGENCY TEACUP AND SAUCER  |\n",
      "|20728    |LUNCH BAG CARS BLUE             |\n",
      "|22383    |LUNCH BAG SUKI DESIGN           |\n",
      "+---------+--------------------------------+\n",
      "only showing top 20 rows\n",
      "\n"
     ]
    }
   ],
   "source": [
    "sinNulosDF.createOrReplaceTempView( \"prueba\" )\n",
    "\n",
    "data = spark.sql( \"\"\"\n",
    "    select distinct(v.StockCode), v.Description\n",
    "    from prueba v\n",
    "    where v.StockCode IN ( '20724',\n",
    " '20726',\n",
    " '20727',\n",
    " '20728',\n",
    " '21212',\n",
    " '21931',\n",
    " '22382',\n",
    " '22383',\n",
    " '22384',\n",
    " '22386',\n",
    " '22697',\n",
    " '22698',\n",
    " '22699',\n",
    " '85099b',\n",
    " '85123a' )\n",
    "\"\"\" )\n",
    "\n",
    "#data.printSchema()\n",
    "data.show(truncate=False)\n",
    "#data.count()\n"
   ]
  },
  {
   "cell_type": "code",
   "execution_count": 44,
   "metadata": {
    "scrolled": false
   },
   "outputs": [
    {
     "name": "stdout",
     "output_type": "stream",
     "text": [
      "+-------+--------------------+--------------------+\n",
      "|Invoice|           StockCode|          prediction|\n",
      "+-------+--------------------+--------------------+\n",
      "| 498929|[21485, 21484, 21...|     [22111, 84970l]|\n",
      "| 499768|[84536a, 21034, 2...|     [85123a, 22112]|\n",
      "| 501651|[22343, 21899, 22...|[22355, 20724, 22...|\n",
      "| 503877|[20702, 22528, 48...|[85099b, 22384, 2...|\n",
      "| 508652|[22644, 85049e, 2...|[85123a, 21212, 2...|\n",
      "| 514134|[21171, 22412, 82...|[21181, 21175, 85...|\n",
      "| 515595|[82486, 47599b, 2...|[22355, 22356, 22...|\n",
      "| 522463|[22158, 21383, 85...|                  []|\n",
      "| 522797|[21788, 21677, 51...|[22355, 20724, 20...|\n",
      "| 524201|[22554, 22659, 22...|[22556, 22629, 22...|\n",
      "| 528166|[22457, 84929, 22...|[22139, 22617, 85...|\n",
      "| 528356|[21901, 22553, 21...|[85099b, 21931, 2...|\n",
      "| 565129|[22980, 22385, 23...|[22356, 21929, 20...|\n",
      "| 570791|[22944, 84944, 85...|[85123a, 20725, 2...|\n",
      "| 581352|[22723, 22675, 23...|[22139, 22617, 22...|\n",
      "| 489573|[22071, 22295, 22...|[22617, 84997d, 8...|\n",
      "| 490834|[21154, 37502, 84...|[85123a, 21231, 8...|\n",
      "| 492168|[21622, 21158, 21...|[22423, 85099b, 2...|\n",
      "| 493183|[20750, 84997a, 2...|      [22139, 22617]|\n",
      "| 498555|[21624, 20615, 21...|                  []|\n",
      "+-------+--------------------+--------------------+\n",
      "only showing top 20 rows\n",
      "\n"
     ]
    }
   ],
   "source": [
    "# observando las predicciones del mismo dataset\n",
    "\n",
    "modelo.transform( ventasDF ).show()\n"
   ]
  },
  {
   "cell_type": "markdown",
   "metadata": {},
   "source": [
    "### Conclusión"
   ]
  },
  {
   "cell_type": "markdown",
   "metadata": {},
   "source": [
    "Al realizar un Análisis Exploratorio de Datos (EDA) sobre un conjunto de datos (transacciones de ventas en línea) se pudo observar valores interesantes, tales como: nulos, negativos, formatos de campos incorrectos, filas o registros duplicadas y entre otros; y consecuentemente preparando los datos y realizando algunas gráficas como ayuda para el análisis.\n",
    "&nbsp;\n",
    "\n",
    "Y finalmente se realizó un modelo, aplicando el algoritmo a priori (reglas de asociación) para detectar patrones y comportamientos de compras por parte de los clientes; dado el caso del modelo, no funcionó del todo encontrar comportamientos o patrones de compra de los productos, ya que existe frecuencias menores de compras, es decir: aún no se puede concretar una buena toma de decisiones."
   ]
  },
  {
   "cell_type": "markdown",
   "metadata": {},
   "source": [
    "### Recomendaciones"
   ]
  },
  {
   "cell_type": "markdown",
   "metadata": {},
   "source": [
    "Para tener resultados óptimos en el análisis exploratorio de datos y un modelo de comportamientos de compras frecuentes, se aconseja tomar en cuenta los siguientes puntos:\n",
    "\n",
    "* Manipular las columnas con datos numéricos NEGATIVOS.\n",
    "* Analizar los registros de ID de clientes registrados como NULOS.\n",
    "* Al realizar CASTEO se pierden datos (se vuelven datos nulos): de String a Number.\n",
    "* Agrupar las compras por: fecha (día) y cliente para un mejor entendimiento.\n",
    "* Validar únicos ID's, tanto para \"StockCode y Description\"."
   ]
  },
  {
   "cell_type": "code",
   "execution_count": 45,
   "metadata": {},
   "outputs": [],
   "source": [
    "\n",
    "## FIN DEL PROYECTO\n"
   ]
  },
  {
   "cell_type": "code",
   "execution_count": null,
   "metadata": {},
   "outputs": [],
   "source": []
  },
  {
   "cell_type": "code",
   "execution_count": 64,
   "metadata": {},
   "outputs": [],
   "source": [
    "# convirtiendo el archivo a formato parquet\n",
    "\n",
    "ventasDF_1.write.parquet(\"./../data/ventasParquet\")\n"
   ]
  }
 ],
 "metadata": {
  "kernelspec": {
   "display_name": "Python 3 (ipykernel)",
   "language": "python",
   "name": "python3"
  },
  "language_info": {
   "codemirror_mode": {
    "name": "ipython",
    "version": 3
   },
   "file_extension": ".py",
   "mimetype": "text/x-python",
   "name": "python",
   "nbconvert_exporter": "python",
   "pygments_lexer": "ipython3",
   "version": "3.7.11"
  }
 },
 "nbformat": 4,
 "nbformat_minor": 4
}
